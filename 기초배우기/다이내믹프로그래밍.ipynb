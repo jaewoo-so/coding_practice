{
 "cells": [
  {
   "cell_type": "markdown",
   "id": "8219421b-dd78-450e-8d1f-dfc1f3669b8e",
   "metadata": {},
   "source": [
    "피보나치 수열"
   ]
  },
  {
   "cell_type": "code",
   "execution_count": 1,
   "id": "a043c611-9d57-4e94-bcdb-43fb98bbf2e9",
   "metadata": {},
   "outputs": [],
   "source": [
    "import time \n",
    "\n",
    "d = [0] * 50"
   ]
  },
  {
   "cell_type": "code",
   "execution_count": null,
   "id": "495b916b-ef96-4bc3-9a11-25de4d2ea25d",
   "metadata": {},
   "outputs": [],
   "source": [
    "def fibo(x):\n",
    "    if x == 1 or x == 2:\n",
    "        return 1\n",
    "    \n",
    "    if d[x] != 0:\n",
    "        return d[x]\n",
    "    else:\n",
    "        d[x] = fibo(x-1) + fibo(x-2)\n",
    "    \n",
    "    return d[x]\n",
    "\n"
   ]
  },
  {
   "cell_type": "code",
   "execution_count": null,
   "id": "011102f8-10f1-48fd-b938-6885a4b8015d",
   "metadata": {},
   "outputs": [],
   "source": [
    "d = [0] * 100\n",
    "\n",
    "d[1] = 1\n",
    "d[2] = 1\n",
    "\n",
    "N = 99\n",
    "\n",
    "for i in range()"
   ]
  }
 ],
 "metadata": {
  "kernelspec": {
   "display_name": "'nlp38'",
   "language": "python",
   "name": "nlp38"
  },
  "language_info": {
   "codemirror_mode": {
    "name": "ipython",
    "version": 3
   },
   "file_extension": ".py",
   "mimetype": "text/x-python",
   "name": "python",
   "nbconvert_exporter": "python",
   "pygments_lexer": "ipython3",
   "version": "3.8.13"
  }
 },
 "nbformat": 4,
 "nbformat_minor": 5
}
