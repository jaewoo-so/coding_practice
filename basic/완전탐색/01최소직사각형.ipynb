{
 "cells": [
  {
   "cell_type": "code",
   "execution_count": null,
   "id": "bee17dfe-d4ed-4bee-9fa0-38eacfa0d791",
   "metadata": {},
   "outputs": [],
   "source": [
    "def solution(sizes):\n",
    "    answer = 0\n",
    "    return answer"
   ]
  },
  {
   "cell_type": "code",
   "execution_count": 1,
   "id": "e16225ac-9f27-47ae-ad22-afa0edad6d09",
   "metadata": {},
   "outputs": [],
   "source": [
    "sizes = [[60, 50], [30, 70], [60, 30], [80, 40]]"
   ]
  },
  {
   "cell_type": "code",
   "execution_count": 2,
   "id": "1e0f9595-4f36-4af8-a2bd-0221882cc3f3",
   "metadata": {},
   "outputs": [],
   "source": [
    "sizes_T = [ [x[1],x[0] ] for x in sizes ]"
   ]
  },
  {
   "cell_type": "code",
   "execution_count": 4,
   "id": "94edba8b-15d8-4d4d-9d87-cd857a419f05",
   "metadata": {},
   "outputs": [],
   "source": [
    "sizes_all = sizes + sizes_T"
   ]
  },
  {
   "cell_type": "code",
   "execution_count": 5,
   "id": "660963d0-d724-4d05-84e7-d88351f3ff6f",
   "metadata": {},
   "outputs": [
    {
     "data": {
      "text/plain": [
       "[[60, 50],\n",
       " [30, 70],\n",
       " [60, 30],\n",
       " [80, 40],\n",
       " [50, 60],\n",
       " [70, 30],\n",
       " [30, 60],\n",
       " [40, 80]]"
      ]
     },
     "execution_count": 5,
     "metadata": {},
     "output_type": "execute_result"
    }
   ],
   "source": [
    "sizes_all"
   ]
  },
  {
   "cell_type": "code",
   "execution_count": 11,
   "id": "7247e224-14a0-4966-8239-63aff7d60b29",
   "metadata": {},
   "outputs": [],
   "source": [
    "sizes =\t[[10, 7], [12, 3], [8, 15], [14, 7], [5, 15]]"
   ]
  },
  {
   "cell_type": "code",
   "execution_count": 13,
   "id": "f91f7a76-23c5-4fd4-8158-05c4ff5db1ca",
   "metadata": {},
   "outputs": [
    {
     "name": "stdout",
     "output_type": "stream",
     "text": [
      "10 7\n",
      "0 0\n",
      "10 7\n",
      "\n",
      "12 3\n",
      "10 7\n",
      "12 7\n",
      "\n",
      "15 8\n",
      "12 7\n",
      "8 15\n",
      "\n",
      "14 7\n",
      "8 15\n",
      "14 15\n",
      "\n",
      "15 5\n",
      "14 15\n",
      "5 15\n",
      "\n",
      "5 15 75\n"
     ]
    }
   ],
   "source": [
    "w_max = 0\n",
    "h_max = 0\n",
    "\n",
    "\n",
    "for w,h in sizes:\n",
    "    if w > h:\n",
    "        real_w , real_h = w,h\n",
    "    else:\n",
    "        real_w , real_h = h,w\n",
    "        \n",
    "    print(real_w,real_h)\n",
    "    print(w_max , h_max)\n",
    "    if w_max < real_w:\n",
    "        w_max = real_w\n",
    "    \n",
    "    if h_max < real_h:\n",
    "        h_max = real_h\n",
    "    print(w_max , h_max)\n",
    "    print()\n",
    "    \n",
    "print(w_max , h_max , w_max * h_max)\n",
    "    \n"
   ]
  },
  {
   "cell_type": "code",
   "execution_count": null,
   "id": "eb44d999-2cc2-4e93-b4e6-400f65cba5b7",
   "metadata": {},
   "outputs": [],
   "source": []
  },
  {
   "cell_type": "code",
   "execution_count": 10,
   "id": "b103b20d-a9bf-4128-bb94-c62290953df1",
   "metadata": {},
   "outputs": [],
   "source": [
    "def solution(sizes):\n",
    "    w_max = 0\n",
    "    h_max = 0\n",
    "    for w,h in sizes:\n",
    "        if w > h:\n",
    "            real_w , real_h = w,h\n",
    "        else:\n",
    "            real_w , real_h = h,w\n",
    "\n",
    "        if w_max < real_w:\n",
    "            w_max = real_w\n",
    "\n",
    "        if h_max < real_h:\n",
    "            h_max = real_h\n",
    "    return w_max * h_max"
   ]
  },
  {
   "cell_type": "code",
   "execution_count": null,
   "id": "dadf074f-f750-46b1-97db-4140f8b551f0",
   "metadata": {},
   "outputs": [],
   "source": [
    "# 모범 답안\n",
    "def solution(sizes):\n",
    "    return max(max(x) for x in sizes) * max(min(x) for x in sizes)"
   ]
  }
 ],
 "metadata": {
  "kernelspec": {
   "display_name": "Python [conda env:nlp38]",
   "language": "python",
   "name": "conda-env-nlp38-py"
  },
  "language_info": {
   "codemirror_mode": {
    "name": "ipython",
    "version": 3
   },
   "file_extension": ".py",
   "mimetype": "text/x-python",
   "name": "python",
   "nbconvert_exporter": "python",
   "pygments_lexer": "ipython3",
   "version": "3.8.13"
  }
 },
 "nbformat": 4,
 "nbformat_minor": 5
}
