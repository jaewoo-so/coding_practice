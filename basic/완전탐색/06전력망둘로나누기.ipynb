{
 "cells": [
  {
   "cell_type": "code",
   "execution_count": 8,
   "id": "667e0614-022e-43f3-baf8-9cc50a3b6878",
   "metadata": {},
   "outputs": [],
   "source": [
    "wires = [[1,3],[2,3],[3,4],[4,5],[4,6],[4,7],[7,8],[7,9]]\n",
    "n = 9\n",
    "\n",
    "wires = [[1,2],[2,3],[3,4]]\n",
    "n = 4\n",
    "\n",
    "wires = [[1,2],[2,7],[3,7],[3,4],[4,5],[6,7]]\n",
    "n = 7"
   ]
  },
  {
   "cell_type": "code",
   "execution_count": 2,
   "id": "03337a05-672a-4309-afec-8116c6f19888",
   "metadata": {},
   "outputs": [],
   "source": [
    "def solution(n, wires):\n",
    "    answer = -1\n",
    "    return answer"
   ]
  },
  {
   "cell_type": "code",
   "execution_count": 15,
   "id": "bb821b4e-e1e3-40c7-b339-4e9f6bdb9dce",
   "metadata": {},
   "outputs": [],
   "source": [
    "# 완전 탐색으로 해보기 \n",
    "from copy import deepcopy\n",
    "import math\n",
    "\n",
    "diffs = []\n",
    "for wire in wires:\n",
    "    cut_list = deepcopy(wires)\n",
    "    cut_list.remove(wire)\n",
    "    \n",
    "    src = cut_list[0]\n",
    "    is_connected = 0\n",
    "    for trg in cut_list[1:]:\n",
    "        if src[0] == trg[0] or\\\n",
    "            src[0] == trg[1] or\\\n",
    "            src[1] == trg[0] or\\\n",
    "            src[1] == trg[1]:\n",
    "            is_connected += 1\n",
    "            \n",
    "    diff = abs(2*is_connected - n )\n",
    "    diffs.append(diff)\n",
    "    \n",
    "res = max(diffs)\n",
    "    "
   ]
  },
  {
   "cell_type": "code",
   "execution_count": 17,
   "id": "d625b888-02f9-493d-839b-f4f5f23d9263",
   "metadata": {},
   "outputs": [
    {
     "data": {
      "text/plain": [
       "4"
      ]
     },
     "execution_count": 17,
     "metadata": {},
     "output_type": "execute_result"
    }
   ],
   "source": [
    "from copy import deepcopy\n",
    "import math\n",
    "def solution(n, wires):\n",
    "    diffs = []\n",
    "    for wire in wires:\n",
    "        cut_list = deepcopy(wires)\n",
    "        cut_list.remove(wire)\n",
    "\n",
    "        src = cut_list[0]\n",
    "        is_connected = 0\n",
    "        for trg in cut_list[1:]:\n",
    "            if src[0] == trg[0] or\\\n",
    "                src[0] == trg[1] or\\\n",
    "                src[1] == trg[0] or\\\n",
    "                src[1] == trg[1]:\n",
    "                is_connected += 1\n",
    "\n",
    "        diff = abs(2*is_connected - n )\n",
    "        diffs.append(diff)\n",
    "\n",
    "    return min(diffs)\n",
    "    "
   ]
  },
  {
   "cell_type": "code",
   "execution_count": 6,
   "id": "44570d3f-c913-4833-9e36-2066d44f1f9e",
   "metadata": {},
   "outputs": [
    {
     "data": {
      "text/plain": [
       "[6, 7]"
      ]
     },
     "execution_count": 6,
     "metadata": {},
     "output_type": "execute_result"
    }
   ],
   "source": [
    "wire"
   ]
  },
  {
   "cell_type": "code",
   "execution_count": null,
   "id": "48f7982b-2e39-461e-9a45-9c2fb9d9122c",
   "metadata": {},
   "outputs": [],
   "source": [
    "wires = [[1,3],[2,3],[3,4],[4,5],[4,6],[4,7],[7,8],[7,9]]\n",
    "n = 9\n",
    "\n",
    "wires = [[1,2],[2,3],[3,4]]\n",
    "n = 4\n",
    "\n",
    "wires = [[1,2],[2,7],[3,7],[3,4],[4,5],[6,7]]\n",
    "n = 7"
   ]
  },
  {
   "cell_type": "code",
   "execution_count": 29,
   "id": "ebcf37e1-59f3-491c-852b-cf90fd08c9bc",
   "metadata": {},
   "outputs": [],
   "source": [
    "# 완전 탐색으로 해보기 \n",
    "from copy import deepcopy\n",
    "import math\n",
    "\n",
    "\n",
    "\n",
    "def check(src,trg):\n",
    "    if src[0] == trg[0] or\\\n",
    "            src[0] == trg[1] or\\\n",
    "            src[1] == trg[0] or\\\n",
    "            src[1] == trg[1]:\n",
    "        return True\n",
    "    else:\n",
    "        return False\n",
    "def solution(n, wires):\n",
    "    diffs = []\n",
    "    grp_list = [False] * len(wires)\n",
    "    grp_list[0] = True\n",
    "    # 모든 연결에 대해, 하나씩 끊어본다.\n",
    "    for i , src in enumerate(wires):\n",
    "\n",
    "        # 끊어진 연결 이외의 연결망과 얼마나 이어져 있는지 본다. \n",
    "        for k , trg in enumerate(wires[1+i:]):\n",
    "\n",
    "            # 타겟이 같은 그룹이면 패스\n",
    "            if grp_list[i+1 + k] == grp_list[i]:\n",
    "                continue\n",
    "            # 연결이 되어있고, 소스 연결망의 그룹이 True 인 경우 \n",
    "            if check(src,trg) and grp_list[i]:\n",
    "                grp_list[i+1 + k] = True\n",
    "\n",
    "        diff = abs(2*sum(grp_list) - n )\n",
    "        print(diff)\n",
    "        diffs.append(diff)\n",
    "\n",
    "    res = min(diffs)\n",
    "    return res, grp_list\n"
   ]
  },
  {
   "cell_type": "code",
   "execution_count": 30,
   "id": "c771ebae-6176-45e0-a8b5-bf2b7b921103",
   "metadata": {},
   "outputs": [],
   "source": [
    "n =6\n",
    "wires = [[1, 4], [6, 3], [2, 5], [5, 1], [5, 3]]"
   ]
  },
  {
   "cell_type": "code",
   "execution_count": 31,
   "id": "2053dedd-670f-4650-8ffc-d2a94b2fe5f4",
   "metadata": {},
   "outputs": [
    {
     "name": "stdout",
     "output_type": "stream",
     "text": [
      "2\n",
      "2\n",
      "2\n",
      "0\n",
      "0\n"
     ]
    }
   ],
   "source": [
    "res, grp_list = solution(n, wires)"
   ]
  },
  {
   "cell_type": "code",
   "execution_count": 32,
   "id": "a74b7480-4867-4de8-9173-541cc886ee25",
   "metadata": {},
   "outputs": [
    {
     "data": {
      "text/plain": [
       "[True, False, False, True, True]"
      ]
     },
     "execution_count": 32,
     "metadata": {},
     "output_type": "execute_result"
    }
   ],
   "source": [
    "grp_list"
   ]
  },
  {
   "cell_type": "code",
   "execution_count": null,
   "id": "6ea67be3-fd6e-4923-80b9-4089954c0fa9",
   "metadata": {},
   "outputs": [],
   "source": [
    "# 완전 탐색으로 해보기 \n",
    "from copy import deepcopy\n",
    "import math\n",
    "\n",
    "\n",
    "\n",
    "def check(src,trg):\n",
    "    if src[0] == trg[0] or\\\n",
    "            src[0] == trg[1] or\\\n",
    "            src[1] == trg[0] or\\\n",
    "            src[1] == trg[1]:\n",
    "        return True\n",
    "    else:\n",
    "        return False\n",
    "def solution(n, wires):\n",
    "    diffs = []\n",
    "    grp_list = [False] * len(wires)\n",
    "    grp_list[0] = True\n",
    "    # 모든 연결에 대해, 하나씩 끊어본다.\n",
    "    for i , src in enumerate(wires):\n",
    "\n",
    "        # 끊어진 연결 이외의 연결망과 얼마나 이어져 있는지 본다. \n",
    "        for k , trg in enumerate(wires[1+i:]):\n",
    "\n",
    "            # 타겟이 같은 그룹이면 패스\n",
    "            if grp_list[i+1 + k] == grp_list[i]:\n",
    "                continue\n",
    "            # 연결이 되어있고, 소스 연결망의 그룹이 True 인 경우 \n",
    "            if check(src,trg) and grp_list[i]:\n",
    "                grp_list[i+1 + k] = True\n",
    "\n",
    "        diff = abs(2*sum(grp_list) - n )\n",
    "        print(diff)\n",
    "        diffs.append(diff)\n",
    "\n",
    "    res = min(diffs)\n",
    "    return res, grp_list\n"
   ]
  }
 ],
 "metadata": {
  "kernelspec": {
   "display_name": "Python [conda env:nlp38]",
   "language": "python",
   "name": "conda-env-nlp38-py"
  },
  "language_info": {
   "codemirror_mode": {
    "name": "ipython",
    "version": 3
   },
   "file_extension": ".py",
   "mimetype": "text/x-python",
   "name": "python",
   "nbconvert_exporter": "python",
   "pygments_lexer": "ipython3",
   "version": "3.8.13"
  }
 },
 "nbformat": 4,
 "nbformat_minor": 5
}
