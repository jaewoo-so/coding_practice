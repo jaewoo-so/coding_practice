{
 "cells": [
  {
   "cell_type": "code",
   "execution_count": null,
   "id": "3560d28f-bfbc-4550-ae5d-206d8d213bd4",
   "metadata": {},
   "outputs": [],
   "source": [
    "def solution(answers):\n",
    "    answer = []\n",
    "    return answer"
   ]
  },
  {
   "cell_type": "code",
   "execution_count": 50,
   "id": "a45c08ea-e163-44aa-a71e-3879d980389a",
   "metadata": {},
   "outputs": [
    {
     "data": {
      "text/plain": [
       "[1, 2, 3]"
      ]
     },
     "execution_count": 50,
     "metadata": {},
     "output_type": "execute_result"
    }
   ],
   "source": [
    "import numpy as np\n",
    "from functools import *\n",
    "answers = [1, 2, 3, 4, 5]\n",
    "answers = [3,3,2,4,2, 1,3,2,4,2,  1,3,2,4,2]\n",
    "answers = [4]\n",
    "ans = np.array(answers)\n",
    "\n",
    "\n",
    "m1 = [1,2,3,4,5] * int(10000 / 5)\n",
    "m2 = [2, 1, 2, 3, 2, 4, 2, 5] * int(10000 / 6)\n",
    "m3 = [ 3, 3, 1, 1, 2, 2, 4, 4, 5, 5 ] * int(10000 / 10)\n",
    "\n",
    "m1 = np.array(m1)[:len(ans)]\n",
    "m2 = np.array(m2)[:len(ans)]\n",
    "m3 = np.array(m3)[:len(ans)]\n",
    "\n",
    "all_ans = np.vstack([m1,m2,m3])\n",
    "res = np.sum( all_ans - ans == 0 , axis = -1 )\n",
    "answer = np.argwhere(res == np.amax(res)).flatten() + 1\n",
    "answer= sorted(answer.tolist())\n",
    "answer"
   ]
  },
  {
   "cell_type": "code",
   "execution_count": 51,
   "id": "87f13b07-9f93-45af-a825-e9e0ea42b040",
   "metadata": {},
   "outputs": [
    {
     "data": {
      "text/plain": [
       "array([[False],\n",
       "       [False],\n",
       "       [False]])"
      ]
     },
     "execution_count": 51,
     "metadata": {},
     "output_type": "execute_result"
    }
   ],
   "source": [
    "all_ans - ans == 0 "
   ]
  },
  {
   "cell_type": "code",
   "execution_count": null,
   "id": "d65e6a26-79ac-42a5-9956-e82d8a7ca962",
   "metadata": {},
   "outputs": [],
   "source": []
  },
  {
   "cell_type": "code",
   "execution_count": null,
   "id": "78f3679b-13b9-451b-9979-d427d306d023",
   "metadata": {},
   "outputs": [],
   "source": [
    "import numpy as np\n",
    "from functools import *\n",
    "\n",
    "def solution(answers):\n",
    "    ans = np.array(answers)\n",
    "\n",
    "    m1 = [1,2,3,4,5] * int(10000 / 5)\n",
    "    m2 = [2, 1, 2, 3, 2, 4, 2, 5] * int(10000 / 6)\n",
    "    m3 = [ 3, 3, 1, 1, 2, 2, 4, 4, 5, 5 ] * int(10000 / 10)\n",
    "\n",
    "    m1 = np.array(m1)[:len(ans)]\n",
    "    m2 = np.array(m2)[:len(ans)]\n",
    "    m3 = np.array(m3)[:len(ans)]\n",
    "\n",
    "    all_ans = np.vstack([m1,m2,m3])\n",
    "    res = np.sum( all_ans - ans == 0 , axis = -1 )\n",
    "    answer = np.argwhere(res == np.amax(res)).flatten() + 1\n",
    "    return sorted(answer.tolist())"
   ]
  },
  {
   "cell_type": "code",
   "execution_count": 35,
   "id": "57999a2d-3829-4325-a6a4-fb2ea9fea33d",
   "metadata": {},
   "outputs": [
    {
     "data": {
      "text/plain": [
       "6000"
      ]
     },
     "execution_count": 35,
     "metadata": {},
     "output_type": "execute_result"
    }
   ],
   "source": [
    "m2 = reduce( lambda f,s : f + s , [ [2 , 2*i + 1 ] for i in range(3) ]) * int(10000 / 10)\n",
    "len(m2)"
   ]
  },
  {
   "cell_type": "code",
   "execution_count": null,
   "id": "10c83995-b547-41ed-a1c7-586c187bac6d",
   "metadata": {},
   "outputs": [],
   "source": []
  }
 ],
 "metadata": {
  "kernelspec": {
   "display_name": "Python [conda env:nlp38]",
   "language": "python",
   "name": "conda-env-nlp38-py"
  },
  "language_info": {
   "codemirror_mode": {
    "name": "ipython",
    "version": 3
   },
   "file_extension": ".py",
   "mimetype": "text/x-python",
   "name": "python",
   "nbconvert_exporter": "python",
   "pygments_lexer": "ipython3",
   "version": "3.8.13"
  }
 },
 "nbformat": 4,
 "nbformat_minor": 5
}
