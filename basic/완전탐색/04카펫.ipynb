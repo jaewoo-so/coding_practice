{
 "cells": [
  {
   "cell_type": "code",
   "execution_count": null,
   "id": "7a3791ab-9926-46b3-a900-3009d037e27c",
   "metadata": {},
   "outputs": [
    {
     "name": "stdout",
     "output_type": "stream",
     "text": [
      "2.0 1.0\n"
     ]
    }
   ],
   "source": [
    "b = 10 \n",
    "y = 2\n",
    "\n",
    "k = b\n",
    "\n",
    "v1 = ((b/2 - 2) + ((b/2 - 2)**2 - 4*y)**(1/2) ) / 2 \n",
    "v2 = ((b/2 - 2) - ((b/2 - 2)**2 - 4*y)**(1/2) ) / 2 \n",
    "print(v1,v2)"
   ]
  },
  {
   "cell_type": "code",
   "execution_count": null,
   "id": "255373c5-a0bc-4d31-b34a-af1f62072ede",
   "metadata": {},
   "outputs": [],
   "source": [
    "# 성공 : 근의공식\n",
    "def solution(brown, yellow ):\n",
    "    b = brown\n",
    "    y = yellow\n",
    "    v1 = ((b/2 - 2) + ((b/2 - 2)**2 - 4*y)**(1/2) ) / 2 \n",
    "    v2 = ((b/2 - 2) - ((b/2 - 2)**2 - 4*y)**(1/2) ) / 2 \n",
    "    \n",
    "    n = max(v1,v2)\n",
    "    m = yellow / n\n",
    "    \n",
    "    return [int(n) +2,int(m) + 2]"
   ]
  },
  {
   "cell_type": "code",
   "execution_count": null,
   "id": "dbebbfd0-b801-4033-904c-8e8b10a32787",
   "metadata": {},
   "outputs": [],
   "source": [
    "# 모범답\n",
    "def solution(brown, red):\n",
    "    for i in range(1, int(red**(1/2))+1):\n",
    "        if red % i == 0:\n",
    "            if 2*(i + red//i) == brown-4:\n",
    "                return [red//i+2, i+2]"
   ]
  }
 ],
 "metadata": {
  "kernelspec": {
   "display_name": "Python [conda env:nlp38]",
   "language": "python",
   "name": "conda-env-nlp38-py"
  },
  "language_info": {
   "codemirror_mode": {
    "name": "ipython",
    "version": 3
   },
   "file_extension": ".py",
   "mimetype": "text/x-python",
   "name": "python",
   "nbconvert_exporter": "python",
   "pygments_lexer": "ipython3",
   "version": "3.8.13"
  }
 },
 "nbformat": 4,
 "nbformat_minor": 5
}
