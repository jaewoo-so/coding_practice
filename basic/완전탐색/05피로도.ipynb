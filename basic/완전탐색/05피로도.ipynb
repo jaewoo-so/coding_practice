{
 "cells": [
  {
   "cell_type": "code",
   "execution_count": null,
   "id": "b5ca56b4-2f2c-4afa-83b3-e60036c261e9",
   "metadata": {},
   "outputs": [],
   "source": [
    "def solution(k, dungeons):\n",
    "    answer = -1\n",
    "    return answer"
   ]
  },
  {
   "cell_type": "code",
   "execution_count": 1,
   "id": "4c76979c-1a3c-4756-8172-b35fb3949abb",
   "metadata": {},
   "outputs": [],
   "source": [
    "k = 80\n",
    "dungeons = [[80,20],[50,40],[30,10]]"
   ]
  },
  {
   "cell_type": "code",
   "execution_count": 178,
   "id": "7fec0f72-7491-4813-8a13-b7d3b8f7226f",
   "metadata": {},
   "outputs": [],
   "source": [
    "from copy import deepcopy\n",
    "import itertools\n",
    "# 가능한 던전에 각각 입장 후 / 다음에 가능한 던전 확인 \n",
    "def run_d(k , duns , depth ):\n",
    "    if len(duns) < 1:\n",
    "        return []\n",
    "    hist_res = []\n",
    "    for i,dun in enumerate(duns):        \n",
    "        if dun[0] <= k:\n",
    "            available , k_new =  True , k - dun[1]  \n",
    "        else: \n",
    "            available , k_new = False , k\n",
    "        if available:\n",
    "            new_duns = deepcopy(duns)\n",
    "            new_duns.pop(i)\n",
    "            hist_new = run_d(k_new ,new_duns, depth + 1 )\n",
    "            \n",
    "            if len(hist_new) >0:\n",
    "                hist_res.append([dun]+ hist_new)\n",
    "            else:\n",
    "                hist_res.append([dun])\n",
    "\n",
    "    return sorted( hist_res , key = lambda x : len(x) , reverse=True)[0] if len(hist_res) != 0 else []\n",
    "\n",
    "def solution(k, dungeons):\n",
    "    res = run_d(k , dungeons, 0 )\n",
    "    return len(res)\n",
    "    "
   ]
  },
  {
   "cell_type": "code",
   "execution_count": 179,
   "id": "9cba6791-4314-4500-82ff-64d5803440fd",
   "metadata": {},
   "outputs": [],
   "source": [
    "solution(k, dungeons)"
   ]
  },
  {
   "cell_type": "code",
   "execution_count": null,
   "id": "84b26d3d-4ece-459b-b078-aca0b83bd9dd",
   "metadata": {},
   "outputs": [],
   "source": [
    "# 모범\n",
    "solution = lambda k, d: max([solution(k - u, d[:i] + d[i+1:]) + 1 for i, (m, u) in enumerate(d) if k >= m] or [0])"
   ]
  },
  {
   "cell_type": "code",
   "execution_count": null,
   "id": "3435f8a2-51b5-40ff-bc16-38ea3ab222e5",
   "metadata": {},
   "outputs": [],
   "source": [
    "\n",
    "answer = 0\n",
    "N = 0\n",
    "visited = []\n",
    "\n",
    "\n",
    "def dfs(k, cnt, dungeons):\n",
    "    global answer\n",
    "    if cnt > answer:\n",
    "        answer = cnt\n",
    "\n",
    "    for j in range(N):\n",
    "        if k >= dungeons[j][0] and not visited[j]:\n",
    "            visited[j] = 1\n",
    "            dfs(k - dungeons[j][1], cnt + 1, dungeons)\n",
    "            visited[j] = 0\n",
    "\n",
    "\n",
    "def solution(k, dungeons):\n",
    "    global N, visited\n",
    "    N = len(dungeons)\n",
    "    visited = [0] * N\n",
    "    dfs(k, 0, dungeons)\n",
    "    return answer"
   ]
  }
 ],
 "metadata": {
  "kernelspec": {
   "display_name": "Python [conda env:nlp38]",
   "language": "python",
   "name": "conda-env-nlp38-py"
  },
  "language_info": {
   "codemirror_mode": {
    "name": "ipython",
    "version": 3
   },
   "file_extension": ".py",
   "mimetype": "text/x-python",
   "name": "python",
   "nbconvert_exporter": "python",
   "pygments_lexer": "ipython3",
   "version": "3.8.13"
  }
 },
 "nbformat": 4,
 "nbformat_minor": 5
}
