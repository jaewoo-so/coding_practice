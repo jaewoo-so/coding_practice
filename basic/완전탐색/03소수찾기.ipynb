{
 "cells": [
  {
   "cell_type": "code",
   "execution_count": 20,
   "id": "0661086c-d355-459d-8800-f4000c2f55db",
   "metadata": {},
   "outputs": [
    {
     "data": {
      "text/plain": [
       "[(1, 7), (7, 1), (7, 7)]"
      ]
     },
     "execution_count": 20,
     "metadata": {},
     "output_type": "execute_result"
    }
   ],
   "source": [
    "# 성공\n",
    "from itertools import permutations\n",
    "from functools import reduce\n",
    "def solution(numbers):\n",
    "    nums = [int(x) for x in numbers]\n",
    "    total = 0\n",
    "    res = []\n",
    "    for i in range(2,len(nums)+1):\n",
    "        res = res + list(permutations(nums,i))\n",
    "    res = list(set(res))\n",
    "    combi= []\n",
    "    for o in res:\n",
    "        o  = int(reduce(lambda f ,s : str(f) + str(s) , o))\n",
    "        combi.append(o)\n",
    "    combi = list(set(combi + nums))\n",
    "    \n",
    "    for o in combi:\n",
    "        if o != 0 and o != 1:\n",
    "            is_prime = True\n",
    "            for k in range(2,o):\n",
    "                if o%k == 0:\n",
    "                    is_prime = False    \n",
    "                    break # 이부분 이 중요. 판정되면 더이상 판정 안하고 멈추게 하기\n",
    "                    \n",
    "            if is_prime:\n",
    "                total += 1\n",
    "    return total"
   ]
  },
  {
   "cell_type": "code",
   "execution_count": null,
   "id": "e291acf5-e745-4f0e-99ce-76cd9279e8c1",
   "metadata": {},
   "outputs": [],
   "source": [
    "# 모범\n",
    "from itertools import permutations\n",
    "def solution(n):\n",
    "    a = set()\n",
    "    for i in range(len(n)):\n",
    "        a |= set(map(int, map(\"\".join, permutations(list(n), i + 1))))\n",
    "    a -= set(range(0, 2))\n",
    "    for i in range(2, int(max(a) ** 0.5) + 1):\n",
    "        a -= set(range(i * 2, max(a) + 1, i))\n",
    "    return len(a)"
   ]
  },
  {
   "cell_type": "code",
   "execution_count": null,
   "id": "b1bddee6-9894-4c7d-b5d8-1372b8c5e2a2",
   "metadata": {},
   "outputs": [],
   "source": [
    "# 재귀 방식\n",
    "primeSet = set()\n",
    "\n",
    "\n",
    "def isPrime(number):\n",
    "    if number in (0, 1):\n",
    "        return False\n",
    "    for i in range(2, number):\n",
    "        if number % i == 0:\n",
    "            return False\n",
    "\n",
    "    return True\n",
    "\n",
    "\n",
    "def makeCombinations(str1, str2):\n",
    "    if str1 != \"\":\n",
    "        if isPrime(int(str1)):\n",
    "            primeSet.add(int(str1))\n",
    "\n",
    "    for i in range(len(str2)):\n",
    "        makeCombinations(str1 + str2[i], str2[:i] + str2[i + 1:])\n",
    "\n",
    "\n",
    "def solution(numbers):\n",
    "    makeCombinations(\"\", numbers)\n",
    "\n",
    "    answer = len(primeSet)\n",
    "\n",
    "    return answer"
   ]
  },
  {
   "cell_type": "code",
   "execution_count": null,
   "id": "11a4f90f-5893-429a-92fa-8d0efc0c1388",
   "metadata": {},
   "outputs": [],
   "source": []
  },
  {
   "cell_type": "code",
   "execution_count": null,
   "id": "93b290eb-3512-4fcb-923d-711d8ef858c5",
   "metadata": {},
   "outputs": [],
   "source": [
    "from itertools import permutations\n",
    "from functools import reduce\n",
    "\n",
    "def check_prime(num):\n",
    "    \n",
    "    pass\n",
    "\n",
    "\n",
    "def solution(numbers):\n",
    "    \n",
    "    num_list = list(set(list(numbers)))\n",
    "    \n",
    "    # 모든 permutation\n",
    "    \n",
    "    for item in list_per:\n",
    "        check_prime(item)\n",
    "    \n",
    "    \n",
    "    pass"
   ]
  }
 ],
 "metadata": {
  "kernelspec": {
   "display_name": "Python [conda env:nlp38]",
   "language": "python",
   "name": "conda-env-nlp38-py"
  },
  "language_info": {
   "codemirror_mode": {
    "name": "ipython",
    "version": 3
   },
   "file_extension": ".py",
   "mimetype": "text/x-python",
   "name": "python",
   "nbconvert_exporter": "python",
   "pygments_lexer": "ipython3",
   "version": "3.8.13"
  }
 },
 "nbformat": 4,
 "nbformat_minor": 5
}
