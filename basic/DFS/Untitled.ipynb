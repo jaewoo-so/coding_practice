{
 "cells": [
  {
   "cell_type": "code",
   "execution_count": 7,
   "id": "14b1e9e5-ed11-4f89-8317-3bc93ab50b4d",
   "metadata": {},
   "outputs": [],
   "source": [
    "from itertools import product\n",
    "board= [[1,1,0,0,1,0],[0,0,1,0,1,0],[0,1,1,0,0,1],[1,1,0,1,1,1],[1,0,0,0,1,0],[0,1,1,1,0,0],[0,1,1,1,0,0]]"
   ]
  },
  {
   "cell_type": "code",
   "execution_count": 2,
   "id": "63c8bd75-8a95-49d5-99f8-7dacb41b21c1",
   "metadata": {},
   "outputs": [],
   "source": [
    "def find_pieces(board):\n",
    "    # 1.1. DFS를 이용하여 연결된 부분을 찾습니다.\n",
    "    pieces = []\n",
    "    visited = [[False] * len(board) for _ in range(len(board))]\n",
    "    \n",
    "    def dfs(x, y, piece, original_board, current_board):\n",
    "        if x < 0 or x >= len(board) or y < 0 or y >= len(board):\n",
    "            return\n",
    "        if visited[x][y] or original_board[x][y] == current_board[x][y]:\n",
    "            return\n",
    "        \n",
    "        visited[x][y] = True\n",
    "        piece.append((x, y))\n",
    "        \n",
    "        for dx, dy in [(1, 0), (-1, 0), (0, 1), (0, -1)]:\n",
    "            dfs(x + dx, y + dy, piece, original_board, current_board)\n",
    "    \n",
    "    for i, j in product(range(len(board)), repeat=2):\n",
    "        if not visited[i][j] and board[i][j] == 1:\n",
    "            piece = []\n",
    "            dfs(i, j, piece, board, [[0] * len(board) for _ in range(len(board))])\n",
    "            pieces.append(piece)\n",
    "    \n",
    "    return pieces"
   ]
  },
  {
   "cell_type": "code",
   "execution_count": 3,
   "id": "c39ba35b-eb3a-43ae-82fb-396eb18a525a",
   "metadata": {},
   "outputs": [
    {
     "ename": "NameError",
     "evalue": "name 'product' is not defined",
     "output_type": "error",
     "traceback": [
      "\u001b[1;31m---------------------------------------------------------------------------\u001b[0m",
      "\u001b[1;31mNameError\u001b[0m                                 Traceback (most recent call last)",
      "Input \u001b[1;32mIn [3]\u001b[0m, in \u001b[0;36m<cell line: 1>\u001b[1;34m()\u001b[0m\n\u001b[1;32m----> 1\u001b[0m \u001b[43mfind_pieces\u001b[49m\u001b[43m(\u001b[49m\u001b[43mboard\u001b[49m\u001b[43m)\u001b[49m\n",
      "Input \u001b[1;32mIn [2]\u001b[0m, in \u001b[0;36mfind_pieces\u001b[1;34m(board)\u001b[0m\n\u001b[0;32m     15\u001b[0m     \u001b[38;5;28;01mfor\u001b[39;00m dx, dy \u001b[38;5;129;01min\u001b[39;00m [(\u001b[38;5;241m1\u001b[39m, \u001b[38;5;241m0\u001b[39m), (\u001b[38;5;241m-\u001b[39m\u001b[38;5;241m1\u001b[39m, \u001b[38;5;241m0\u001b[39m), (\u001b[38;5;241m0\u001b[39m, \u001b[38;5;241m1\u001b[39m), (\u001b[38;5;241m0\u001b[39m, \u001b[38;5;241m-\u001b[39m\u001b[38;5;241m1\u001b[39m)]:\n\u001b[0;32m     16\u001b[0m         dfs(x \u001b[38;5;241m+\u001b[39m dx, y \u001b[38;5;241m+\u001b[39m dy, piece, original_board, current_board)\n\u001b[1;32m---> 18\u001b[0m \u001b[38;5;28;01mfor\u001b[39;00m i, j \u001b[38;5;129;01min\u001b[39;00m \u001b[43mproduct\u001b[49m(\u001b[38;5;28mrange\u001b[39m(\u001b[38;5;28mlen\u001b[39m(board)), repeat\u001b[38;5;241m=\u001b[39m\u001b[38;5;241m2\u001b[39m):\n\u001b[0;32m     19\u001b[0m     \u001b[38;5;28;01mif\u001b[39;00m \u001b[38;5;129;01mnot\u001b[39;00m visited[i][j] \u001b[38;5;129;01mand\u001b[39;00m board[i][j] \u001b[38;5;241m==\u001b[39m \u001b[38;5;241m1\u001b[39m:\n\u001b[0;32m     20\u001b[0m         piece \u001b[38;5;241m=\u001b[39m []\n",
      "\u001b[1;31mNameError\u001b[0m: name 'product' is not defined"
     ]
    }
   ],
   "source": [
    "find_pieces(board)"
   ]
  },
  {
   "cell_type": "code",
   "execution_count": 8,
   "id": "b9763b90-aa79-4f81-9373-d16336be1142",
   "metadata": {},
   "outputs": [
    {
     "name": "stdout",
     "output_type": "stream",
     "text": [
      "[False, False, False, False, False, False, False]\n",
      "[False, False, False, False, False, False, False]\n",
      "[False, False, False, False, False, False, False]\n",
      "[False, False, False, False, False, False, False]\n",
      "[False, False, False, False, False, False, False]\n",
      "[False, False, False, False, False, False, False]\n",
      "[False, False, False, False, False, False, False]\n"
     ]
    }
   ],
   "source": [
    "for _ in range(len(board)):\n",
    "    temp = [False] * len(board)\n",
    "    print(temp)"
   ]
  },
  {
   "cell_type": "code",
   "execution_count": 6,
   "id": "82e73fba-869b-4647-9bac-5156ad639345",
   "metadata": {},
   "outputs": [
    {
     "data": {
      "text/plain": [
       "6"
      ]
     },
     "execution_count": 6,
     "metadata": {},
     "output_type": "execute_result"
    }
   ],
   "source": [
    "len(board)"
   ]
  },
  {
   "cell_type": "code",
   "execution_count": null,
   "id": "eb2a6056-5d28-4668-84df-c54001944534",
   "metadata": {},
   "outputs": [],
   "source": []
  }
 ],
 "metadata": {
  "kernelspec": {
   "display_name": "gb",
   "language": "python",
   "name": "gb"
  },
  "language_info": {
   "codemirror_mode": {
    "name": "ipython",
    "version": 3
   },
   "file_extension": ".py",
   "mimetype": "text/x-python",
   "name": "python",
   "nbconvert_exporter": "python",
   "pygments_lexer": "ipython3",
   "version": "3.8.13"
  }
 },
 "nbformat": 4,
 "nbformat_minor": 5
}
