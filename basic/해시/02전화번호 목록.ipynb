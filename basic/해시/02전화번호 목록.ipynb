{
 "cells": [
  {
   "cell_type": "markdown",
   "id": "8217c75e-bd2e-43a1-8c36-eefd154e6067",
   "metadata": {},
   "source": [
    "문제 설명\n",
    "전화번호부에 적힌 전화번호 중, 한 번호가 다른 번호의 접두어인 경우가 있는지 확인하려 합니다.\n",
    "전화번호가 다음과 같을 경우, 구조대 전화번호는 영석이의 전화번호의 접두사입니다.\n",
    "\n",
    "구조대 : 119\n",
    "박준영 : 97 674 223\n",
    "지영석 : 11 9552 4421\n",
    "전화번호부에 적힌 전화번호를 담은 배열 phone_book 이 solution 함수의 매개변수로 주어질 때, 어떤 번호가 다른 번호의 접두어인 경우가 있으면 false를 그렇지 않으면 true를 return 하도록 solution 함수를 작성해주세요.\n",
    "\n",
    "제한 사항\n",
    "phone_book의 길이는 1 이상 1,000,000 이하입니다.\n",
    "각 전화번호의 길이는 1 이상 20 이하입니다.\n",
    "같은 전화번호가 중복해서 들어있지 않습니다.\n",
    "입출력 예제\n",
    "phone_book\treturn\n",
    "[\"119\", \"97674223\", \"1195524421\"]\tfalse\n",
    "[\"123\",\"456\",\"789\"]\ttrue\n",
    "[\"12\",\"123\",\"1235\",\"567\",\"88\"]\tfalse\n",
    "입출력 예 설명\n",
    "입출력 예 #1\n",
    "앞에서 설명한 예와 같습니다.\n",
    "\n",
    "입출력 예 #2\n",
    "한 번호가 다른 번호의 접두사인 경우가 없으므로, 답은 true입니다.\n",
    "\n",
    "입출력 예 #3\n",
    "첫 번째 전화번호, “12”가 두 번째 전화번호 “123”의 접두사입니다. 따라서 답은 false입니다."
   ]
  },
  {
   "cell_type": "code",
   "execution_count": null,
   "id": "9a4b2ffb-614b-424f-bf8e-3a0f5de8e410",
   "metadata": {},
   "outputs": [],
   "source": [
    "def solution(phone_book):\n",
    "    answer = True\n",
    "    return answer"
   ]
  },
  {
   "cell_type": "code",
   "execution_count": 2,
   "id": "cb700559-5650-4811-a244-4480d6bb5f73",
   "metadata": {},
   "outputs": [],
   "source": [
    "phone_book = [\"119\", \"97674223\", \"1195524421\"]"
   ]
  },
  {
   "cell_type": "code",
   "execution_count": 14,
   "id": "28826b02-4ee1-4049-b8db-b68eb6fdf3db",
   "metadata": {},
   "outputs": [],
   "source": [
    "max_len = len(max(phone_book))\n",
    "min_len = len(min(phone_book))\n",
    "total = len(phone_book)"
   ]
  },
  {
   "cell_type": "code",
   "execution_count": 8,
   "id": "d18039ad-e430-4721-91cf-9f15f26547a7",
   "metadata": {},
   "outputs": [
    {
     "name": "stdout",
     "output_type": "stream",
     "text": [
      "3\n",
      "4\n",
      "5\n",
      "6\n",
      "7\n"
     ]
    }
   ],
   "source": [
    "for i in range(min_len,max_len):\n",
    "    print(i)"
   ]
  },
  {
   "cell_type": "code",
   "execution_count": 23,
   "id": "6716d9a9-9240-406e-8031-1c09fcc04d82",
   "metadata": {},
   "outputs": [
    {
     "name": "stdout",
     "output_type": "stream",
     "text": [
      "['123', '456', '789']\n"
     ]
    },
    {
     "data": {
      "text/plain": [
       "False"
      ]
     },
     "execution_count": 23,
     "metadata": {},
     "output_type": "execute_result"
    }
   ],
   "source": [
    "def solution(phone_book):\n",
    "    total = len(phone_book)\n",
    "    ll = list(set([len(x) for x in phone_book]))\n",
    "    #ll.remove(max(ll))\n",
    "\n",
    "    for i in ll:\n",
    "        all_pre = [ x[:i] for x in phone_book]\n",
    "        print(all_pre)\n",
    "        if len(set(all_pre)) != total:\n",
    "            return False\n",
    "        \n",
    "    return True\n",
    "phone_book = [\"119\", \"97674223\", \"1195524421\"]\n",
    "phone_book = [\"123\",\"78933\",\"7893\"]\n",
    "phone_book = [\"123\", \"1005\", \"1006\", \"1007\"] # 실패 케이스 \n",
    "solution(phone_book)"
   ]
  },
  {
   "cell_type": "code",
   "execution_count": 25,
   "id": "469a2ef3-ebab-426e-9095-c68228be1434",
   "metadata": {},
   "outputs": [
    {
     "name": "stdout",
     "output_type": "stream",
     "text": [
      "['123', '789', '789']\n",
      "['123', '7893', '7893']\n",
      "['123', '78933', '7893']\n"
     ]
    }
   ],
   "source": [
    "def solution(phone_book):\n",
    "    total = len(phone_book)\n",
    "    lst_len = [len(x) for x in phone_book]\n",
    "    dic = dict(zip(lst_len , phone_book))\n",
    "    uni_len = list(set([len(x) for x in phone_book]))\n",
    "    \n",
    "    for i in uni_len:\n",
    "        for num in phone_book:\n",
    "            if dic[i] in num:\n",
    "                return False\n",
    "            \n",
    "    return True\n",
    "\n",
    "phone_book = [\"119\", \"97674223\", \"1195524421\"]\n",
    "phone_book = [\"123\",\"456\",\"7893\"]\n",
    "phone_book = [\"123\",\"78933\",\"7893\"]\n",
    "phone_book = [\"123\", \"1005\", \"1006\", \"1007\"]\n",
    "solution(phone_book)"
   ]
  },
  {
   "cell_type": "code",
   "execution_count": 12,
   "id": "d1597317-5497-4184-9224-b9224fb37c0a",
   "metadata": {},
   "outputs": [],
   "source": [
    "# 실패\n",
    "def solution(phone_book):\n",
    "    \n",
    "    for num in phone_book:\n",
    "        lst_sel = [x[:len(num)] for x in list(set(phone_book) - set([num])) ]\n",
    "        for trg in lst_sel:\n",
    "            if num == trg:\n",
    "                return False\n",
    "    return True\n"
   ]
  },
  {
   "cell_type": "code",
   "execution_count": null,
   "id": "501d09bf-9705-4b4b-88d1-f9c30a617f1c",
   "metadata": {},
   "outputs": [],
   "source": [
    "# 시간 싪패\n",
    "def solution(phone_book):\n",
    "    ll = list(set([len(x) for x in phone_book]))\n",
    "\n",
    "    grp = {}\n",
    "    for i in ll:\n",
    "        grp[i] = []\n",
    "\n",
    "    for num in phone_book:\n",
    "        grp[len(num)].append(num)\n",
    "\n",
    "    k_list = list(grp.keys())\n",
    "\n",
    "    for i in range(len(k_list)):\n",
    "        trgs = grp[k_list[i]]\n",
    "\n",
    "        for trg in trgs:\n",
    "\n",
    "            ktmp = k_list.copy()\n",
    "            ktmp.remove(k_list[i])\n",
    "\n",
    "            for k in ktmp:\n",
    "                if k > i:\n",
    "                    for src in grp[k]:\n",
    "                        if trg == src[:k_list[i]]:\n",
    "                            return False\n",
    "    return True"
   ]
  },
  {
   "cell_type": "code",
   "execution_count": 59,
   "id": "2881a1a4-fa3d-43e6-9ecf-258d7ace4ca9",
   "metadata": {},
   "outputs": [
    {
     "name": "stdout",
     "output_type": "stream",
     "text": [
      "타겟 번호 길이 3\n",
      "소스 번호 길이 4\n",
      "소스가 타게보다 길다\n",
      "소스 번호 길이 4\n",
      "소스가 타게보다 길다\n",
      "타겟 번호 길이 4\n",
      "소스 번호 길이 3\n",
      "소스가 타게보다 길다\n",
      "소스 번호 길이 3\n",
      "소스가 타게보다 길다\n",
      "소스 번호 길이 3\n",
      "소스가 타게보다 길다\n"
     ]
    },
    {
     "data": {
      "text/plain": [
       "True"
      ]
     },
     "execution_count": 59,
     "metadata": {},
     "output_type": "execute_result"
    }
   ],
   "source": [
    "phone_book = [\"123\", \"1005\", \"1006\", \"1007\", \"456\"]\n",
    "#phone_book = \t[\"123\", \"456\", \"789\"]\n",
    "def solution(phone_book):\n",
    "    ll = list(set([len(x) for x in phone_book]))\n",
    "\n",
    "    grp = {}\n",
    "    \n",
    "    # 길이별 딕셔너리 만들기\n",
    "    for i in ll:\n",
    "        grp[i] = []\n",
    "\n",
    "    # 각각의 번호를 길이별 딕셔너리 벨류로 만들기\n",
    "    for num in phone_book:\n",
    "        grp[len(num)].append(num)\n",
    "\n",
    "    k_list = list(grp.keys())\n",
    "\n",
    "    # 그룹의 키 ( 번호 길이 )\n",
    "    for i in range(len(k_list)):\n",
    "        trgs = grp[k_list[i]]\n",
    "        print(f'타겟 번호 길이 {k_list[i]}')\n",
    "        for trg in trgs:\n",
    "            ktmp = k_list.copy()\n",
    "            ktmp.remove(k_list[i])\n",
    "\n",
    "            \n",
    "            for k in ktmp:\n",
    "                print(f'소스 번호 길이 {k}')\n",
    "                if k > i: #번호 길이가 항상 타겟이 짧아야 한다. \n",
    "                    print('소스가 타게보다 길다')\n",
    "                    for src in grp[k]:\n",
    "                        if trg == src[:k_list[i]]:\n",
    "                            print(trg,src)\n",
    "                            return False\n",
    "    return True\n",
    "    \n",
    "solution(phone_book)\n",
    "    \n",
    "            "
   ]
  },
  {
   "cell_type": "code",
   "execution_count": 48,
   "id": "c1469371-0718-490e-8ece-cf637289139b",
   "metadata": {},
   "outputs": [
    {
     "data": {
      "text/plain": [
       "[4]"
      ]
     },
     "execution_count": 48,
     "metadata": {},
     "output_type": "execute_result"
    }
   ],
   "source": [
    "# 정답\n",
    "def solution(phone_book):\n",
    "    phone_book.sort() # 이부분에서 1번재 기준정렬, 결과를 다시 2번재 기준 정렬 .. 이렇게 된다 .\n",
    "    for i in range(len(phone_book)-1):\n",
    "        if phone_book[i]==phone_book[i+1][:len(phone_book[i])]:\n",
    "            return False\n",
    "    return True"
   ]
  },
  {
   "cell_type": "code",
   "execution_count": 64,
   "id": "ba45b0e0-1bc9-4cb1-9df5-e8845c524454",
   "metadata": {},
   "outputs": [],
   "source": [
    "phone_book = [\"119\", \"11197674223\", \"1195524432423421\"]\n",
    "phone_book.sort()\n",
    "    "
   ]
  },
  {
   "cell_type": "code",
   "execution_count": 65,
   "id": "76f8af20-c2c2-4dbf-b58c-f3b69023de10",
   "metadata": {},
   "outputs": [
    {
     "data": {
      "text/plain": [
       "['11197674223', '119', '1195524432423421']"
      ]
     },
     "execution_count": 65,
     "metadata": {},
     "output_type": "execute_result"
    }
   ],
   "source": [
    "phone_book"
   ]
  },
  {
   "cell_type": "code",
   "execution_count": null,
   "id": "81ad61a5-b07b-4178-8294-79579d275f77",
   "metadata": {},
   "outputs": [],
   "source": []
  }
 ],
 "metadata": {
  "kernelspec": {
   "display_name": "Python [conda env:nlp38]",
   "language": "python",
   "name": "conda-env-nlp38-py"
  },
  "language_info": {
   "codemirror_mode": {
    "name": "ipython",
    "version": 3
   },
   "file_extension": ".py",
   "mimetype": "text/x-python",
   "name": "python",
   "nbconvert_exporter": "python",
   "pygments_lexer": "ipython3",
   "version": "3.8.13"
  }
 },
 "nbformat": 4,
 "nbformat_minor": 5
}
