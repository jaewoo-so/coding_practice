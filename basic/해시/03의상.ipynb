{
 "cells": [
  {
   "cell_type": "markdown",
   "id": "9b06b868-2fef-485c-9fbc-60c55121917b",
   "metadata": {},
   "source": [
    "문제 설명\n",
    "코니는 매일 다른 옷을 조합하여 입는것을 좋아합니다.\n",
    "\n",
    "예를 들어 코니가 가진 옷이 아래와 같고, 오늘 코니가 동그란 안경, 긴 코트, 파란색 티셔츠를 입었다면 다음날은 청바지를 추가로 입거나 동그란 안경 대신 검정 선글라스를 착용하거나 해야합니다.\n",
    "\n",
    "종류\t이름\n",
    "얼굴\t동그란 안경, 검정 선글라스\n",
    "상의\t파란색 티셔츠\n",
    "하의\t청바지\n",
    "겉옷\t긴 코트\n",
    "코니는 각 종류별로 최대 1가지 의상만 착용할 수 있습니다. 예를 들어 위 예시의 경우 동그란 안경과 검정 선글라스를 동시에 착용할 수는 없습니다.\n",
    "착용한 의상의 일부가 겹치더라도, 다른 의상이 겹치지 않거나, 혹은 의상을 추가로 더 착용한 경우에는 서로 다른 방법으로 옷을 착용한 것으로 계산합니다.\n",
    "코니는 하루에 최소 한 개의 의상은 입습니다.\n",
    "코니가 가진 의상들이 담긴 2차원 배열 clothes가 주어질 때 서로 다른 옷의 조합의 수를 return 하도록 solution 함수를 작성해주세요.\n",
    "\n",
    "제한사항\n",
    "clothes의 각 행은 [의상의 이름, 의상의 종류]로 이루어져 있습니다.\n",
    "코니가 가진 의상의 수는 1개 이상 30개 이하입니다.\n",
    "같은 이름을 가진 의상은 존재하지 않습니다.\n",
    "clothes의 모든 원소는 문자열로 이루어져 있습니다.\n",
    "모든 문자열의 길이는 1 이상 20 이하인 자연수이고 알파벳 소문자 또는 '_' 로만 이루어져 있습니다.\n",
    "입출력 예\n",
    "clothes\treturn\n",
    "[[\"yellow_hat\", \"headgear\"], [\"blue_sunglasses\", \"eyewear\"], [\"green_turban\", \"headgear\"]]\t5\n",
    "[[\"crow_mask\", \"face\"], [\"blue_sunglasses\", \"face\"], [\"smoky_makeup\", \"face\"]]\t3\n",
    "입출력 예 설명\n",
    "예제 #1\n",
    "headgear에 해당하는 의상이 yellow_hat, green_turban이고 eyewear에 해당하는 의상이 blue_sunglasses이므로 아래와 같이 5개의 조합이 가능합니다.\n",
    "\n",
    "1. yellow_hat\n",
    "2. blue_sunglasses\n",
    "3. green_turban\n",
    "4. yellow_hat + blue_sunglasses\n",
    "5. green_turban + blue_sunglasses\n",
    "예제 #2\n",
    "face에 해당하는 의상이 crow_mask, blue_sunglasses, smoky_makeup이므로 아래와 같이 3개의 조합이 가능합니다.\n",
    "\n",
    "1. crow_mask\n",
    "2. blue_sunglasses\n",
    "3. smoky_makeup\n"
   ]
  },
  {
   "cell_type": "code",
   "execution_count": 20,
   "id": "9a6b2b2f-445b-4b01-995a-76560b451ced",
   "metadata": {},
   "outputs": [],
   "source": [
    "import numpy as np\n",
    "import pandas as pd\n",
    "import itertools\n",
    "from collections import Counter"
   ]
  },
  {
   "cell_type": "code",
   "execution_count": null,
   "id": "f869181c-7bd4-4a3a-bba6-69b6a8ad9b6b",
   "metadata": {},
   "outputs": [],
   "source": [
    "def solution(clothes):\n",
    "    answer = 0\n",
    "    return answer"
   ]
  },
  {
   "cell_type": "code",
   "execution_count": 4,
   "id": "5f833cf6-ea55-4c19-b383-343fa596b5eb",
   "metadata": {},
   "outputs": [],
   "source": [
    "clothes = [[\"yellow_hat\", \"headgear\"], [\"blue_sunglasses\", \"eyewear\"], [\"green_turban\", \"headgear\"]]"
   ]
  },
  {
   "cell_type": "code",
   "execution_count": 24,
   "id": "e9f78fac-484e-4bb0-8c29-8164306c39d5",
   "metadata": {},
   "outputs": [],
   "source": [
    "tonum = Counter(np.array(clothes)[:,1])\n",
    "lst = list(set(np.array(clothes)[:,1]))"
   ]
  },
  {
   "cell_type": "code",
   "execution_count": 32,
   "id": "391e2b4a-8086-42e4-b372-e618822e8c72",
   "metadata": {},
   "outputs": [],
   "source": [
    "from collections import Counter\n",
    "import numpy as np\n",
    "import itertools\n",
    "def solution(clothes):\n",
    "    tonum = Counter(np.array(clothes)[:,1])\n",
    "    lst = list(set(np.array(clothes)[:,1]))\n",
    "    all_counter = 0\n",
    "    for i in range(len(lst)):\n",
    "        candi = list(itertools.combinations(lst, i+1))\n",
    "        for items in candi: # 1개의 조합\n",
    "            val = 1\n",
    "            for item in items: # 조합의 각 아이템\n",
    "                val = val * tonum[item]\n",
    "            all_counter += val\n",
    "    return all_counter\n",
    "\n",
    "\n"
   ]
  },
  {
   "cell_type": "code",
   "execution_count": 43,
   "id": "018dbf7e-f7e2-4267-8258-43d7723ded4e",
   "metadata": {},
   "outputs": [],
   "source": [
    "# 성공\n",
    "from collections import Counter\n",
    "import numpy as np\n",
    "from functools import reduce\n",
    "def solution(clothes):\n",
    "    temp = np.array(clothes)[:,1]\n",
    "    temp2 = list(set(np.array(clothes)[:,1])) # 각 부위에 한개씩 추가\n",
    "    combined = np.append(temp ,temp2)\n",
    "    \n",
    "    tonum = Counter(combined)\n",
    "\n",
    "    return reduce(lambda f ,s : f * s, tonum.values()) -1\n",
    "  \n"
   ]
  },
  {
   "cell_type": "code",
   "execution_count": null,
   "id": "be3fb144-72e4-46bb-9761-78d67db840d2",
   "metadata": {},
   "outputs": [],
   "source": [
    "# 정답\n",
    "def solution(clothes):\n",
    "    from collections import Counter\n",
    "    from functools import reduce\n",
    "    cnt = Counter([kind for name, kind in clothes])\n",
    "    answer = reduce(lambda x, y: x*(y+1), cnt.values(), 1) - 1\n",
    "    return answer"
   ]
  },
  {
   "cell_type": "code",
   "execution_count": null,
   "id": "c561c333-71bf-4411-9243-c9d2d2b186ba",
   "metadata": {},
   "outputs": [],
   "source": [
    "'''\n",
    "reduce(function, iterable, initializer=None):\n",
    "\n",
    "만약 initializer = 1이면\n",
    "\n",
    "iterable = [4,5,6] 시 \n",
    "동작은 1이 더해진\n",
    "\n",
    "[1,4,5,6] 으로 실행된다. \n",
    "\n",
    "\n",
    "'''"
   ]
  }
 ],
 "metadata": {
  "kernelspec": {
   "display_name": "'nlp38'",
   "language": "python",
   "name": "nlp38"
  },
  "language_info": {
   "codemirror_mode": {
    "name": "ipython",
    "version": 3
   },
   "file_extension": ".py",
   "mimetype": "text/x-python",
   "name": "python",
   "nbconvert_exporter": "python",
   "pygments_lexer": "ipython3",
   "version": "3.8.13"
  }
 },
 "nbformat": 4,
 "nbformat_minor": 5
}
