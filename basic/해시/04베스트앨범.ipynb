{
 "cells": [
  {
   "cell_type": "code",
   "execution_count": null,
   "id": "6083d7f5-4ecd-4757-bd80-ba11655bcb6f",
   "metadata": {},
   "outputs": [],
   "source": []
  },
  {
   "cell_type": "code",
   "execution_count": 15,
   "id": "5ae1f6d0-9c27-4ca1-8ec1-21a62a1cb7e2",
   "metadata": {},
   "outputs": [],
   "source": [
    "genres= [\"classic\", \"pop\", \"classic\", \"classic\", \"pop\" , 'za','za','za']\n",
    "plays = [500, 600, 150, 800, 2500 , 8000 ,100 , 20]\n",
    "\n",
    "\n",
    "def solution(genres, plays):\n",
    "    answer = []\n",
    "    return answer"
   ]
  },
  {
   "cell_type": "code",
   "execution_count": 50,
   "id": "703ad6ed-6d56-43f9-aedb-16e9eea2ac01",
   "metadata": {},
   "outputs": [],
   "source": [
    "import pandas as pd\n",
    "from functools import reduce\n",
    "def solution(genres, plays):\n",
    "    df = pd.DataFrame()\n",
    "    df['genres'] = genres\n",
    "    df['plays'] = plays\n",
    "    df['id'] = df.index\n",
    "\n",
    "    dfgrp = df.groupby(by = 'genres')\n",
    "    dfsum = dfgrp.sum()\n",
    "    dfsum = dfsum.sort_values(by = 'plays' , ascending = False)\n",
    "\n",
    "    res = []\n",
    "    for gn in dfsum.index:\n",
    "        dfsel = dfgrp.get_group(gn)\n",
    "        res_sel = list(dfsel.sort_values(by = 'plays', ascending = False).head(2).id.values.astype(int))\n",
    "        res.append(res_sel)\n",
    "    return [ int(x) for x in list(reduce(lambda f,s : f + s , res))]"
   ]
  },
  {
   "cell_type": "code",
   "execution_count": null,
   "id": "dd7614d1-0088-47d0-bb49-a11e917c2609",
   "metadata": {},
   "outputs": [],
   "source": [
    "# 정답\n",
    "def solution(genres, plays):\n",
    "    answer = []\n",
    "    d = {e:[] for e in set(genres)}\n",
    "    for e in zip(genres, plays, range(len(plays))):\n",
    "        d[e[0]].append([e[1] , e[2]])\n",
    "    genreSort =sorted(list(d.keys()), key= lambda x: sum( map(lambda y: y[0],d[x])), reverse = True)\n",
    "    for g in genreSort:\n",
    "        temp = [e[1] for e in sorted(d[g],key= lambda x: (x[0], -x[1]), reverse = True)]\n",
    "        answer += temp[:min(len(temp),2)]\n",
    "    return answer"
   ]
  }
 ],
 "metadata": {
  "kernelspec": {
   "display_name": "'nlp38'",
   "language": "python",
   "name": "nlp38"
  },
  "language_info": {
   "codemirror_mode": {
    "name": "ipython",
    "version": 3
   },
   "file_extension": ".py",
   "mimetype": "text/x-python",
   "name": "python",
   "nbconvert_exporter": "python",
   "pygments_lexer": "ipython3",
   "version": "3.8.13"
  }
 },
 "nbformat": 4,
 "nbformat_minor": 5
}
