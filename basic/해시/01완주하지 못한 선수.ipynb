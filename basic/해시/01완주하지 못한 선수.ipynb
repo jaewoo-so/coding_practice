{
 "cells": [
  {
   "cell_type": "markdown",
   "id": "799a5b10-4131-491a-a243-4d79a81c76e5",
   "metadata": {},
   "source": [
    "## 문제 설명\n",
    "수많은 마라톤 선수들이 마라톤에 참여하였습니다. 단 한 명의 선수를 제외하고는 모든 선수가 마라톤을 완주하였습니다.\n",
    "\n",
    "마라톤에 참여한 선수들의 이름이 담긴 배열 participant와 완주한 선수들의 이름이 담긴 배열 completion이 주어질 때, 완주하지 못한 선수의 이름을 return 하도록 solution 함수를 작성해주세요.\n",
    "\n",
    "## 제한사항\n",
    "마라톤 경기에 참여한 선수의 수는 1명 이상 100,000명 이하입니다.\n",
    "completion의 길이는 participant의 길이보다 1 작습니다.\n",
    "참가자의 이름은 1개 이상 20개 이하의 알파벳 소문자로 이루어져 있습니다.\n",
    "참가자 중에는 동명이인이 있을 수 있습니다.\n",
    "입출력 예\n",
    "participant\tcompletion\treturn\n",
    "[\"leo\", \"kiki\", \"eden\"]\t[\"eden\", \"kiki\"]\t\"leo\"\n",
    "[\"marina\", \"josipa\", \"nikola\", \"vinko\", \"filipa\"]\t[\"josipa\", \"filipa\", \"marina\", \"nikola\"]\t\"vinko\"\n",
    "[\"mislav\", \"stanko\", \"mislav\", \"ana\"]\t[\"stanko\", \"ana\", \"mislav\"]\t\"mislav\"\n",
    "## 입출력 예 설명\n",
    "**예제 #1**\n",
    "\"leo\"는 참여자 명단에는 있지만, 완주자 명단에는 없기 때문에 완주하지 못했습니다.\n",
    "\n",
    "**예제 #2**\n",
    "\"vinko\"는 참여자 명단에는 있지만, 완주자 명단에는 없기 때문에 완주하지 못했습니다.\n",
    "\n",
    "**예제 #3**\n",
    "\"mislav\"는 참여자 명단에는 두 명이 있지만, 완주자 명단에는 한 명밖에 없기 때문에 한명은 완주하지 못했습니다.\n",
    "\n"
   ]
  },
  {
   "cell_type": "code",
   "execution_count": 1,
   "id": "8125f436-83a2-46e9-91db-f32fd4097787",
   "metadata": {},
   "outputs": [],
   "source": [
    "def solution(participant, completion):\n",
    "    answer = ''\n",
    "    return answer"
   ]
  },
  {
   "cell_type": "code",
   "execution_count": 7,
   "id": "45cf083b-c618-42fb-b51e-d13c1bf86dde",
   "metadata": {},
   "outputs": [],
   "source": [
    "from collections import Counter\n",
    "\n",
    "def solution(participant, completion):\n",
    "    count_res = Counter(participant)\n",
    "    key_list = count_res.keys()\n",
    "    for com in completion:\n",
    "        if com in key_list:\n",
    "            count_res[com] -= 1\n",
    "    \n",
    "    com_list = []\n",
    "    for k in key_list:\n",
    "        if count_res[k] > 0:\n",
    "            com_list.append(k)\n",
    "    answer = k\n",
    "    return answer"
   ]
  },
  {
   "cell_type": "code",
   "execution_count": null,
   "id": "a8ea318e-d1f8-4be5-8556-e78d3ba37fb8",
   "metadata": {},
   "outputs": [],
   "source": [
    "def solution(participant, completion):\n",
    "    for com in completion:\n",
    "        participant.remove(com)\n",
    "    answer = participant\n",
    "    return answer"
   ]
  },
  {
   "cell_type": "code",
   "execution_count": 10,
   "id": "f308ef55-e473-4ffc-aa6d-06d0d4306388",
   "metadata": {},
   "outputs": [
    {
     "data": {
      "text/plain": [
       "'red'"
      ]
     },
     "execution_count": 10,
     "metadata": {},
     "output_type": "execute_result"
    }
   ],
   "source": [
    "# 틀림\n",
    "from collections import Counter\n",
    "def solution(participant, completion):\n",
    "    count_res = Counter(participant)\n",
    "    key_list = count_res.keys()\n",
    "    \n",
    "    res = len(set(participant) - set(completion))\n",
    "    \n",
    "    if res > 0:\n",
    "        answer = res\n",
    "    else:\n",
    "        for k in count_res:\n",
    "            if count_res[k] > 1:\n",
    "                answer = k\n",
    "    \n",
    "\n",
    "    return answer\n",
    "\n",
    "x1 =['blue', 'red', 'blue', 'yellow', 'blue', 'red']\n",
    "x2 = ['blue', 'red' , 'blue',  'red', 'yellow']\n",
    "\n",
    "solution(x1,x2)"
   ]
  },
  {
   "cell_type": "code",
   "execution_count": 28,
   "id": "df20cb87-0feb-47a1-8dd2-009140f82bd6",
   "metadata": {},
   "outputs": [
    {
     "name": "stdout",
     "output_type": "stream",
     "text": [
      "CPU times: total: 0 ns\n",
      "Wall time: 0 ns\n"
     ]
    },
    {
     "data": {
      "text/plain": [
       "'blue'"
      ]
     },
     "execution_count": 28,
     "metadata": {},
     "output_type": "execute_result"
    }
   ],
   "source": [
    "%%time\n",
    "def solution(participant, completion):\n",
    "    dd = {}\n",
    "    dd_conv = {}\n",
    "    sumHash=0\n",
    "    for i , part in enumerate(list(set(participant))):\n",
    "        dd[i+1]=part\n",
    "        dd_conv[part]=i+1\n",
    "    for i , part in enumerate(participant):\n",
    "        sumHash += dd_conv[part]\n",
    "    for comp in completion:\n",
    "        sumHash -= dd_conv[comp]\n",
    "    return dd[sumHash]\n",
    "x1 =['blue', 'red', 'blue', 'yellow', 'blue', 'red']\n",
    "x2 = ['blue', 'red' , 'blue',  'red', 'yellow']\n",
    "\n",
    "solution(x1,x2)"
   ]
  },
  {
   "cell_type": "code",
   "execution_count": 32,
   "id": "2d502d28-d818-4888-9e9c-ded945008623",
   "metadata": {},
   "outputs": [
    {
     "name": "stdout",
     "output_type": "stream",
     "text": [
      "CPU times: total: 0 ns\n",
      "Wall time: 0 ns\n"
     ]
    },
    {
     "data": {
      "text/plain": [
       "'blue'"
      ]
     },
     "execution_count": 32,
     "metadata": {},
     "output_type": "execute_result"
    }
   ],
   "source": [
    "%%time\n",
    "def solution(participant, completion):\n",
    "    uni_name = list(set(participant))\n",
    "    uni_list = list(range(1,len(uni_name) + 1))\n",
    "    \n",
    "    num2name = dict(zip(uni_list ,uni_name ))\n",
    "    name2num = dict(zip(uni_name ,uni_list ))\n",
    "    \n",
    "    sum_val=0\n",
    "\n",
    "    for i , part in enumerate(participant):\n",
    "        sum_val += name2num[part]\n",
    "    for comp in completion:\n",
    "        sum_val -= name2num[comp]\n",
    "    return num2name[sum_val]\n",
    "\n",
    "x1 =['blue', 'red', 'blue', 'yellow', 'blue', 'red']\n",
    "x2 = ['blue', 'red' , 'blue',  'red', 'yellow']\n",
    "\n",
    "solution(x1,x2)"
   ]
  },
  {
   "cell_type": "code",
   "execution_count": 34,
   "id": "72f24a29-9ebe-4b9d-a9d8-d96bbbe2f6ab",
   "metadata": {},
   "outputs": [],
   "source": [
    "import collections\n",
    "\n",
    "\n",
    "def solution(participant, completion):\n",
    "    answer = collections.Counter(participant) - collections.Counter(completion)\n",
    "    return list(answer.keys())[0]"
   ]
  },
  {
   "cell_type": "code",
   "execution_count": 30,
   "id": "6c21ab3f-42a1-4607-9708-374ca0702847",
   "metadata": {},
   "outputs": [],
   "source": [
    "res = set(x1) - set(x2)"
   ]
  },
  {
   "cell_type": "code",
   "execution_count": 35,
   "id": "a24281f1-087b-4397-a71e-75966f8084ad",
   "metadata": {},
   "outputs": [
    {
     "data": {
      "text/plain": [
       "Counter({'blue': 3, 'red': 2, 'yellow': 1})"
      ]
     },
     "execution_count": 35,
     "metadata": {},
     "output_type": "execute_result"
    }
   ],
   "source": [
    "collections.Counter(x1)"
   ]
  },
  {
   "cell_type": "code",
   "execution_count": 36,
   "id": "b184a369-b64a-4749-916b-65412b71e0b2",
   "metadata": {},
   "outputs": [
    {
     "data": {
      "text/plain": [
       "Counter({'blue': 2, 'red': 2, 'yellow': 1})"
      ]
     },
     "execution_count": 36,
     "metadata": {},
     "output_type": "execute_result"
    }
   ],
   "source": [
    "collections.Counter(x2)"
   ]
  },
  {
   "cell_type": "code",
   "execution_count": 37,
   "id": "672004b5-fd3b-4540-9b57-6ae9c5f1c13b",
   "metadata": {},
   "outputs": [
    {
     "data": {
      "text/plain": [
       "Counter({'blue': 1})"
      ]
     },
     "execution_count": 37,
     "metadata": {},
     "output_type": "execute_result"
    }
   ],
   "source": [
    "collections.Counter(x1) - collections.Counter(x2)"
   ]
  },
  {
   "cell_type": "code",
   "execution_count": null,
   "id": "c2476b63-5bed-42d3-868f-10502e48c0d1",
   "metadata": {},
   "outputs": [],
   "source": []
  }
 ],
 "metadata": {
  "kernelspec": {
   "display_name": "Python [conda env:nlp38]",
   "language": "python",
   "name": "conda-env-nlp38-py"
  },
  "language_info": {
   "codemirror_mode": {
    "name": "ipython",
    "version": 3
   },
   "file_extension": ".py",
   "mimetype": "text/x-python",
   "name": "python",
   "nbconvert_exporter": "python",
   "pygments_lexer": "ipython3",
   "version": "3.8.13"
  }
 },
 "nbformat": 4,
 "nbformat_minor": 5
}
