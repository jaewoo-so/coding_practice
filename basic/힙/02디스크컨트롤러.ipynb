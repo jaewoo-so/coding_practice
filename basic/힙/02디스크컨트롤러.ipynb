{
 "cells": [
  {
   "cell_type": "markdown",
   "id": "0a10b7d5-4241-4e89-b7dc-ef0d5c0f0313",
   "metadata": {},
   "source": [
    "특정 시점에서 요청대기중인 일 중에, 빨리 끝나는 일을 먼저 하는것이 평균이 낮아진다. \n",
    "\n",
    "- 소숫점 이하는 버린다!!!!"
   ]
  },
  {
   "cell_type": "code",
   "execution_count": 7,
   "id": "e9f644f8-b559-40c1-9214-89fa168f88a3",
   "metadata": {},
   "outputs": [],
   "source": [
    "import heapq"
   ]
  },
  {
   "cell_type": "code",
   "execution_count": null,
   "id": "224c0c82-990f-420f-93c9-87d1f399e287",
   "metadata": {},
   "outputs": [],
   "source": [
    "def solution(jobs):\n",
    "    answer = 0\n",
    "    return answer"
   ]
  },
  {
   "cell_type": "code",
   "execution_count": 78,
   "id": "59b6d9e9-5c0f-4876-b7f3-8f3d1116b00b",
   "metadata": {},
   "outputs": [],
   "source": [
    "jobs =  [[0, 3], [1, 9], [2, 6]]\n",
    "jobs = [[0, 1], [2, 2], [2, 4]]\n",
    "#jobs = [[1, 4], [7, 9], [1000, 5]]"
   ]
  },
  {
   "cell_type": "code",
   "execution_count": 79,
   "id": "f628c8de-cac2-40e8-bcfb-f52d675a615e",
   "metadata": {},
   "outputs": [
    {
     "name": "stdout",
     "output_type": "stream",
     "text": [
      "h [[0, 1], [2, 2], [2, 4]]\n",
      "h [[2, 2], [2, 4]]\n",
      "hc [[1, 0]]\n",
      "candidate [1, 0]\n",
      "in : 0,[1, 0]\n",
      "current_time 1\n",
      "running_time 1\n",
      "total_running_time 1\n",
      "h [[2, 2], [2, 4]]\n",
      "\n",
      "h [[2, 2], [2, 4]]\n",
      "hc []\n",
      "candidate [2, 2]\n",
      "candidate[1] > current_time  : candidate =  [2, 2]\n",
      "current_time 4\n",
      "running_time 2\n",
      "total_running_time 3\n",
      "h [[2, 4]]\n",
      "\n",
      "h [[2, 4]]\n",
      "candidate [4, 2]\n",
      "in : 4,[4, 2]\n",
      "current_time 8\n",
      "running_time 6\n",
      "total_running_time 9\n",
      "h []\n",
      "\n"
     ]
    },
    {
     "data": {
      "text/plain": [
       "3.0"
      ]
     },
     "execution_count": 79,
     "metadata": {},
     "output_type": "execute_result"
    }
   ],
   "source": [
    "# 힙으로 넣기 \n",
    "h = []\n",
    "\n",
    "for job in jobs:\n",
    "    heapq.heappush(h, job)\n",
    "\n",
    "current_time = 0\n",
    "total_running_time = 0\n",
    "h = []\n",
    "\n",
    "for job in jobs:\n",
    "    heapq.heappush(h, job)\n",
    "\n",
    "while True: \n",
    "    if len(h) == 0:\n",
    "        break\n",
    "        \n",
    "    hc = []\n",
    "    candidates = []\n",
    "    while True:\n",
    "        if len(h) < 1:\n",
    "            break\n",
    "        print('h' , h)\n",
    "        res = heapq.heappop(h)\n",
    "        if res[0] <= current_time:\n",
    "            heapq.heappush(hc , [res[1],res[0]])\n",
    "        else:\n",
    "            print('hc',hc)\n",
    "            if len(hc) > 0:\n",
    "                heapq.heappush(h,res)\n",
    "            else:\n",
    "                heapq.heappush(hc , [res[1],res[0]])\n",
    "            break\n",
    "            \n",
    "    # 대상을 추출\n",
    "    candidate = heapq.heappop(hc)\n",
    "    print('candidate' , candidate)\n",
    "    \n",
    "    # 대상 이외의 후보는 다시 heap에 넣기 \n",
    "    for item in hc:\n",
    "        heapq.heappush(h,[item[1],item[0]])\n",
    "        \n",
    "    if candidate[1] > current_time:\n",
    "        current_time = candidate[0] + candidate[1] #candidate[0] 걸린시간 , candidate[1] 시작시간\n",
    "        running_time = candidate[0]\n",
    "        print('candidate[1] > current_time  : candidate = ',candidate)\n",
    "    else:\n",
    "        print(f'in : {current_time },{candidate}')\n",
    "        current_time = current_time + candidate[0]\n",
    "        running_time = current_time - candidate[1]\n",
    "    total_running_time += running_time\n",
    "    print('current_time' , current_time)\n",
    "    print('running_time' , running_time)\n",
    "    print('total_running_time' , total_running_time)\n",
    "    print('h',h)\n",
    "    print()\n",
    "result = int(total_running_time / len(jobs))\n",
    "result"
   ]
  },
  {
   "cell_type": "code",
   "execution_count": 72,
   "id": "f621e660-3e8b-405d-88e6-e7c8c9783ca4",
   "metadata": {},
   "outputs": [
    {
     "data": {
      "text/plain": [
       "[1, 9]"
      ]
     },
     "execution_count": 72,
     "metadata": {},
     "output_type": "execute_result"
    }
   ],
   "source": [
    "candidate"
   ]
  },
  {
   "cell_type": "code",
   "execution_count": null,
   "id": "9a5157af-3ddd-497b-a837-82a716c4adac",
   "metadata": {},
   "outputs": [],
   "source": []
  },
  {
   "cell_type": "code",
   "execution_count": 54,
   "id": "a8424e51-eaa1-402e-809a-a8f1dddf62df",
   "metadata": {},
   "outputs": [],
   "source": [
    "# 성공 : 소숫점 이하는 버린다ㅡ<ㅡㅡㅡㅡ\n",
    "\n",
    "import heapq\n",
    "def solution(jobs):\n",
    "    current_time = 0\n",
    "    total_running_time = 0\n",
    "    h = []\n",
    "\n",
    "    for job in jobs:\n",
    "        heapq.heappush(h, job)\n",
    "\n",
    "    while True: \n",
    "        if len(h) == 0:\n",
    "            break\n",
    "            \n",
    "        hc = []\n",
    "        candidates = []\n",
    "        \n",
    "        while True:\n",
    "            if len(h) < 1:\n",
    "                break\n",
    "\n",
    "            res = heapq.heappop(h)\n",
    "            if res[0] <= current_time:\n",
    "                heapq.heappush(hc , [res[1],res[0]])\n",
    "            else:\n",
    "                if len(hc) > 0:\n",
    "                    heapq.heappush(h,res)\n",
    "                else:\n",
    "                    heapq.heappush(hc , [res[1],res[0]])\n",
    "                break\n",
    "\n",
    "        # 대상을 추출\n",
    "        candidate = heapq.heappop(hc)\n",
    "\n",
    "        # 대상 이외의 후보는 다시 heap에 넣기 \n",
    "        for item in hc:\n",
    "            heapq.heappush(h,[item[1],item[0]])\n",
    "        if candidate[1] > current_time:\n",
    "            current_time = candidate[0] + candidate[1] #candidate[0] 걸린시간 , candidate[1] 시작시간\n",
    "            running_time = candidate[0]\n",
    "        else:\n",
    "            current_time = current_time + candidate[0]\n",
    "            running_time = current_time - candidate[1]\n",
    "        total_running_time += running_time\n",
    "\n",
    "    return int(total_running_time / len(jobs))"
   ]
  },
  {
   "cell_type": "code",
   "execution_count": 45,
   "id": "d88d6e40-a858-4428-b953-5570959d8c5d",
   "metadata": {},
   "outputs": [
    {
     "data": {
      "text/plain": [
       "10"
      ]
     },
     "execution_count": 45,
     "metadata": {},
     "output_type": "execute_result"
    }
   ],
   "source": [
    "total_running_time"
   ]
  },
  {
   "cell_type": "code",
   "execution_count": null,
   "id": "835346c5-bb0a-4edf-8da0-829fd9e25c40",
   "metadata": {},
   "outputs": [],
   "source": [
    "#모범답안1\n",
    "import heapq\n",
    "from collections import deque\n",
    "\n",
    "def solution(jobs):\n",
    "    tasks = deque(sorted([(x[1], x[0]) for x in jobs], key=lambda x: (x[1], x[0])))\n",
    "    q = []\n",
    "    heapq.heappush(q, tasks.popleft())\n",
    "    current_time, total_response_time = 0, 0\n",
    "    while len(q) > 0:\n",
    "        dur, arr = heapq.heappop(q)\n",
    "        current_time = max(current_time + dur, arr + dur)\n",
    "        total_response_time += current_time - arr\n",
    "        while len(tasks) > 0 and tasks[0][1] <= current_time:\n",
    "            heapq.heappush(q, tasks.popleft())\n",
    "        if len(tasks) > 0 and len(q) == 0:\n",
    "            heapq.heappush(q, tasks.popleft())\n",
    "    return total_response_time // len(jobs)"
   ]
  },
  {
   "cell_type": "code",
   "execution_count": null,
   "id": "d79d6584-ac7b-4907-81d5-9c29039d83ac",
   "metadata": {},
   "outputs": [],
   "source": [
    "#모범답안2\n",
    "import heapq\n",
    "\n",
    "def solution(jobs):\n",
    "    tasks = sorted([(x[1], x[0]) for x in jobs],\n",
    "                   key=lambda x: (x[1], x[0]), reverse=True)\n",
    "    q = []\n",
    "    heapq.heappush(q, tasks.pop())\n",
    "    current_time, total_response_time = 0, 0\n",
    "    while len(q) > 0:\n",
    "        dur, arr = heapq.heappop(q)\n",
    "        current_time = max(current_time + dur, arr + dur)\n",
    "        total_response_time += current_time - arr\n",
    "        while len(tasks) > 0 and tasks[-1][1] <= current_time:\n",
    "            heapq.heappush(q, tasks.pop())\n",
    "        if len(tasks) > 0 and len(q) == 0:\n",
    "            heapq.heappush(q, tasks.pop())\n",
    "    return total_response_time // len(jobs)"
   ]
  }
 ],
 "metadata": {
  "kernelspec": {
   "display_name": "Python [conda env:nlp38]",
   "language": "python",
   "name": "conda-env-nlp38-py"
  },
  "language_info": {
   "codemirror_mode": {
    "name": "ipython",
    "version": 3
   },
   "file_extension": ".py",
   "mimetype": "text/x-python",
   "name": "python",
   "nbconvert_exporter": "python",
   "pygments_lexer": "ipython3",
   "version": "3.8.13"
  }
 },
 "nbformat": 4,
 "nbformat_minor": 5
}
