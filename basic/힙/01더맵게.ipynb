{
 "cells": [
  {
   "cell_type": "markdown",
   "id": "5ecebfa0-b49f-4c22-9388-ef98f10ade20",
   "metadata": {},
   "source": [
    "섞은 음식의 스코빌 지수 = 가장 맵지 않은 음식의 스코빌 지수 + (두 번째로 맵지 않은 음식의 스코빌 지수 * 2)\n",
    "\n",
    "- Leo는 모든 음식의 스코빌 지수가 K 이상이 될 때까지 반복하여 섞습니다.\n",
    "- Leo가 가진 음식의 스코빌 지수를 담은 배열 scoville과 원하는 스코빌 지수 K가 주어질 때, 모든 음식의 스코빌 지수를 K 이상으로 만들기 위해 섞어야 하는 최소 횟수를 return 하도록 solution 함수를 작성해주세요\n",
    "\n",
    "### 제한 사항\n",
    "- scoville의 길이는 2 이상 1,000,000 이하입니다.\n",
    "-  0 이상 1,000,000,000 이하입니다.\n",
    "- scoville의 원소는 각각 0 이상 1,000,000 이하입니다.\n",
    "- 모든 음식의 스코빌 지수를 K 이상으로 만들 수 없는 경우에는 -1을 return 합니다.\n",
    "\n",
    "\n",
    "scoville\tK\treturn    \n",
    "[1, 2, 3, 9, 10, 12]\t7\t2\n",
    "\n",
    "\n",
    "\n",
    "스코빌 지수가 1인 음식과 2인 음식을 섞으면 음식의 스코빌 지수가 아래와 같이 됩니다.    \n",
    "새로운 음식의 스코빌 지수 = 1 + (2 * 2) = 5\n",
    "가진 음식의 스코빌 지수 = [5, 3, 9, 10, 12]\n",
    "\n",
    "스코빌 지수가 3인 음식과 5인 음식을 섞으면 음식의 스코빌 지수가 아래와 같이 됩니다.         \n",
    "새로운 음식의 스코빌 지수 = 3 + (5 * 2) = 13     \n",
    "가진 음식의 스코빌 지수 = [13, 9, 10, 12]    \n",
    "\n",
    "모든 음식의 스코빌 지수가 7 이상이 되었고 이때 섞은 횟수는 2회입니다.    "
   ]
  },
  {
   "cell_type": "code",
   "execution_count": null,
   "id": "a8c12e50-210f-4ca5-8e78-b84299bab9e9",
   "metadata": {},
   "outputs": [],
   "source": [
    "\t[1, 2, 3, 9, 10, 12], 7"
   ]
  },
  {
   "cell_type": "code",
   "execution_count": null,
   "id": "45a96e27-289d-4bb9-a751-8006c662d870",
   "metadata": {},
   "outputs": [],
   "source": []
  },
  {
   "cell_type": "code",
   "execution_count": null,
   "id": "1348712f-a4ae-41d6-94d3-c1902d9275e5",
   "metadata": {},
   "outputs": [],
   "source": []
  },
  {
   "cell_type": "code",
   "execution_count": null,
   "id": "d3c330bd-f5a6-45b8-92e2-cf1400a5f81f",
   "metadata": {},
   "outputs": [],
   "source": []
  },
  {
   "cell_type": "code",
   "execution_count": null,
   "id": "fab87955-7aa4-41e5-8200-919ef5a02c0e",
   "metadata": {},
   "outputs": [],
   "source": [
    "def solution(scoville, K):\n",
    "    answer = 0\n",
    "    return answer"
   ]
  },
  {
   "cell_type": "code",
   "execution_count": 1,
   "id": "138fc4ee-dbe0-421b-9f73-a5bcad3f2acb",
   "metadata": {},
   "outputs": [],
   "source": [
    "scoville = [1, 2, 3, 9, 10, 12]\n",
    "K = 7"
   ]
  },
  {
   "cell_type": "code",
   "execution_count": null,
   "id": "697978bf-1b6b-488b-b196-49bc60756e2b",
   "metadata": {},
   "outputs": [],
   "source": [
    "scoville"
   ]
  },
  {
   "cell_type": "code",
   "execution_count": 27,
   "id": "ed6a5cc0-733e-45a0-a70c-1e9388934796",
   "metadata": {},
   "outputs": [
    {
     "name": "stdout",
     "output_type": "stream",
     "text": [
      "1\n",
      "3\n"
     ]
    }
   ],
   "source": [
    "import heapq\n",
    "scoville = [1, 2, 3, 9, 10, 12]\n",
    "K = 7\n",
    "heapq.heapify(scoville)\n",
    "cnt = 0\n",
    "while scoville[0] < K: \n",
    "    if scoville[0] < K:\n",
    "        # f가 K 이하일때 \n",
    "        f = heapq.heappop(scoville) # heapq.heappop : heap에서 가장 작은 항목을 팝하고 반환합니다\n",
    "        s = heapq.heappop(scoville)\n",
    "        res = f + (s*2)\n",
    "        heapq.heappush(scoville, res)\n",
    "        cnt += 1\n"
   ]
  },
  {
   "cell_type": "code",
   "execution_count": 22,
   "id": "274d7363-3ab3-4a3e-ae92-f45e349be637",
   "metadata": {},
   "outputs": [],
   "source": [
    "f = heapq.heappop(scoville)"
   ]
  },
  {
   "cell_type": "code",
   "execution_count": 23,
   "id": "7a5b13c2-d91a-4174-b872-c767c3faf488",
   "metadata": {},
   "outputs": [],
   "source": [
    "s = heapq.heappop(scoville)"
   ]
  },
  {
   "cell_type": "code",
   "execution_count": 24,
   "id": "c4a6ec9d-50be-47be-bb62-c39e1957783b",
   "metadata": {},
   "outputs": [],
   "source": [
    "res = f + (s*2)"
   ]
  },
  {
   "cell_type": "code",
   "execution_count": 25,
   "id": "857cdee6-2b34-452a-a110-8a55adb64630",
   "metadata": {},
   "outputs": [],
   "source": [
    "heapq.heappush(scoville, res)"
   ]
  },
  {
   "cell_type": "code",
   "execution_count": 26,
   "id": "7cbc2766-39f9-4aab-b241-93ed38766014",
   "metadata": {},
   "outputs": [
    {
     "data": {
      "text/plain": [
       "[9, 12, 10, 13]"
      ]
     },
     "execution_count": 26,
     "metadata": {},
     "output_type": "execute_result"
    }
   ],
   "source": [
    "scoville"
   ]
  },
  {
   "cell_type": "code",
   "execution_count": 21,
   "id": "83229fa8-ff80-45b3-b155-6c69868da6ba",
   "metadata": {},
   "outputs": [
    {
     "data": {
      "text/plain": [
       "3"
      ]
     },
     "execution_count": 21,
     "metadata": {},
     "output_type": "execute_result"
    }
   ],
   "source": [
    "scoville[0]"
   ]
  },
  {
   "cell_type": "code",
   "execution_count": 24,
   "id": "72f92758-7e88-4d6f-819e-ae9988e887f8",
   "metadata": {},
   "outputs": [],
   "source": [
    "# 성공\n",
    "import heapq\n",
    "def solution(scoville, K):\n",
    "    print(scoville)\n",
    "    scoville = sorted(scoville)\n",
    "    heapq.heapify(scoville)\n",
    "    cnt = 0\n",
    "    while scoville[0] < K:\n",
    "        if len(scoville) < 2:\n",
    "            return -1\n",
    "        \n",
    "        # f가 K 이하일때 \n",
    "        f = heapq.heappop(scoville)\n",
    "        s = heapq.heappop(scoville)\n",
    "        res = f + (s*2)\n",
    "        heapq.heappush(scoville, res)\n",
    "        cnt += 1\n",
    "        print(scoville,scoville[0])\n",
    "    return cnt"
   ]
  },
  {
   "cell_type": "code",
   "execution_count": 25,
   "id": "5c3e2aa1-c841-41f2-b765-35349cc5db18",
   "metadata": {},
   "outputs": [
    {
     "name": "stdout",
     "output_type": "stream",
     "text": [
      "[1, 2, 3, 9, 10, 12]\n",
      "[3, 5, 10, 12, 9] 3\n",
      "[9, 12, 10, 13] 9\n"
     ]
    },
    {
     "data": {
      "text/plain": [
       "2"
      ]
     },
     "execution_count": 25,
     "metadata": {},
     "output_type": "execute_result"
    }
   ],
   "source": [
    "solution(\t[1, 2, 3, 9, 10, 12], 7)"
   ]
  },
  {
   "cell_type": "code",
   "execution_count": 34,
   "id": "02dc4bcb-3e9f-4db6-9a7e-cc8c2366cb1b",
   "metadata": {},
   "outputs": [],
   "source": [
    "scoville = [10, 20, 3, 9, 11, 12]\n",
    "heapq.heapify(scoville)"
   ]
  },
  {
   "cell_type": "code",
   "execution_count": 3,
   "id": "75863fb0-a210-42ba-9c3a-cf8c0e87ea8e",
   "metadata": {},
   "outputs": [],
   "source": [
    "import heapq\n",
    "\n",
    "def check(scoville,K):\n",
    "    if scoville[0] >= K:\n",
    "        return True\n",
    "    else:\n",
    "        return False\n",
    "    \n",
    "\n",
    "def solution(scoville, K):\n",
    "    heapq.heapify(scoville)\n",
    "    i = 0\n",
    "    while True:\n",
    "        #check\n",
    "        is_pass = check(scoville,K)\n",
    "        if is_pass and not len(scoville) < 1:\n",
    "            return i\n",
    "        elif not is_pass and len(scoville_sorted) < 2:\n",
    "            return -1\n",
    "        \n",
    "        #mix\n",
    "        f = heapq.heappop(scoville)\n",
    "        s = heapq.heappop(scoville)\n",
    "        new_item = f + s*2\n",
    "        heapq.heappush(scoville,new_item)\n",
    "        i += 1\n",
    "\n",
    "        "
   ]
  },
  {
   "cell_type": "code",
   "execution_count": 50,
   "id": "9d3b5b40-5002-4a7f-b797-c414e6ff57d6",
   "metadata": {},
   "outputs": [
    {
     "name": "stdout",
     "output_type": "stream",
     "text": [
      "[]\n"
     ]
    },
    {
     "ename": "IndexError",
     "evalue": "list index out of range",
     "output_type": "error",
     "traceback": [
      "\u001b[1;31m---------------------------------------------------------------------------\u001b[0m",
      "\u001b[1;31mIndexError\u001b[0m                                Traceback (most recent call last)",
      "Input \u001b[1;32mIn [50]\u001b[0m, in \u001b[0;36m<cell line: 1>\u001b[1;34m()\u001b[0m\n\u001b[1;32m----> 1\u001b[0m \u001b[43msolution\u001b[49m\u001b[43m(\u001b[49m\u001b[43m\t\u001b[49m\u001b[43m[\u001b[49m\u001b[43m]\u001b[49m\u001b[43m,\u001b[49m\u001b[43m \u001b[49m\u001b[38;5;241;43m7\u001b[39;49m\u001b[43m)\u001b[49m\n",
      "Input \u001b[1;32mIn [24]\u001b[0m, in \u001b[0;36msolution\u001b[1;34m(scoville, K)\u001b[0m\n\u001b[0;32m      6\u001b[0m heapq\u001b[38;5;241m.\u001b[39mheapify(scoville)\n\u001b[0;32m      7\u001b[0m cnt \u001b[38;5;241m=\u001b[39m \u001b[38;5;241m0\u001b[39m\n\u001b[1;32m----> 8\u001b[0m \u001b[38;5;28;01mwhile\u001b[39;00m \u001b[43mscoville\u001b[49m\u001b[43m[\u001b[49m\u001b[38;5;241;43m0\u001b[39;49m\u001b[43m]\u001b[49m \u001b[38;5;241m<\u001b[39m K:\n\u001b[0;32m      9\u001b[0m     \u001b[38;5;28;01mif\u001b[39;00m \u001b[38;5;28mlen\u001b[39m(scoville) \u001b[38;5;241m<\u001b[39m \u001b[38;5;241m2\u001b[39m:\n\u001b[0;32m     10\u001b[0m         \u001b[38;5;28;01mreturn\u001b[39;00m \u001b[38;5;241m-\u001b[39m\u001b[38;5;241m1\u001b[39m\n",
      "\u001b[1;31mIndexError\u001b[0m: list index out of range"
     ]
    }
   ],
   "source": [
    "solution(\t[], 7)"
   ]
  },
  {
   "cell_type": "code",
   "execution_count": null,
   "id": "1e2f7d81-27d9-46cb-836e-22c909c0b9aa",
   "metadata": {},
   "outputs": [],
   "source": []
  }
 ],
 "metadata": {
  "kernelspec": {
   "display_name": "Python [conda env:nlp38]",
   "language": "python",
   "name": "conda-env-nlp38-py"
  },
  "language_info": {
   "codemirror_mode": {
    "name": "ipython",
    "version": 3
   },
   "file_extension": ".py",
   "mimetype": "text/x-python",
   "name": "python",
   "nbconvert_exporter": "python",
   "pygments_lexer": "ipython3",
   "version": "3.8.13"
  }
 },
 "nbformat": 4,
 "nbformat_minor": 5
}
