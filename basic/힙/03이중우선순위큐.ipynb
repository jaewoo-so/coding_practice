{
 "cells": [
  {
   "cell_type": "code",
   "execution_count": 5,
   "id": "5699ad7f-140b-4827-bc7d-a8a31b7eb792",
   "metadata": {},
   "outputs": [],
   "source": [
    "import heapq"
   ]
  },
  {
   "cell_type": "code",
   "execution_count": 29,
   "id": "564492f7-9a51-4dbb-8c0f-ee012567e5db",
   "metadata": {},
   "outputs": [],
   "source": [
    "#operations = [\"I 16\", \"I -5643\", \"D -1\", \"D 1\", \"D 1\", \"I 123\", \"D -1\"]\n",
    "\n",
    "operations = [\"I -45\", \"I 653\", \"D 1\", \"I -642\", \"I 45\", \"I 97\", \"D 1\", \"D -1\", \"I 333\"]"
   ]
  },
  {
   "cell_type": "code",
   "execution_count": null,
   "id": "55bccc9e-95dc-499f-a3f3-6501416b0004",
   "metadata": {},
   "outputs": [],
   "source": [
    "def solution(operations):\n",
    "    answer = []\n",
    "    return answer"
   ]
  },
  {
   "cell_type": "code",
   "execution_count": 32,
   "id": "c711ed81-48f7-45a9-8134-3e93eb34dbac",
   "metadata": {},
   "outputs": [
    {
     "name": "stdout",
     "output_type": "stream",
     "text": [
      "I\n",
      "[-45]\n",
      "\n",
      "I\n",
      "[-45, 653]\n",
      "\n",
      "D 1\n",
      "[-653, 45]\n",
      "hmax after  [45]\n",
      "[-45]\n",
      "\n",
      "I\n",
      "[-642, -45]\n",
      "\n",
      "I\n",
      "[-642, -45, 45]\n",
      "\n",
      "I\n",
      "[-642, -45, 45, 97]\n",
      "\n",
      "D 1\n",
      "[-97, -45, 45, 642]\n",
      "hmax after  [-45, 642, 45]\n",
      "[-642, 45, -45]\n",
      "\n",
      "D -1\n",
      "[-45, 45]\n",
      "\n",
      "I\n",
      "[-45, 45, 333]\n",
      "\n"
     ]
    }
   ],
   "source": [
    "hmin = []\n",
    "hmax = []\n",
    "for x in operations:\n",
    "    if x == \"D 1\" and len(hmin) > 0:\n",
    "        print( \"D 1\")\n",
    "        hmax = []\n",
    "        \n",
    "        for item in hmin:\n",
    "            heapq.heappush(hmax , -item)\n",
    "        print(hmax)\n",
    "        heapq.heappop(hmax) \n",
    "        print('hmax after ' , hmax)\n",
    "        hmin = []\n",
    "        for item in hmax:\n",
    "            heapq.heappush(hmin , -item)\n",
    "        print(hmin)\n",
    "        print()\n",
    "    elif x == \"D -1\" and len(hmin) > 0:\n",
    "        print( \"D -1\")\n",
    "        heapq.heappop(hmin)\n",
    "        print(hmin)\n",
    "        print()\n",
    "    elif x[0] == \"I\":\n",
    "        print('I')\n",
    "        txt = x[2:]\n",
    "        heapq.heappush(hmin ,int(txt))\n",
    "        print(hmin)\n",
    "        print()\n",
    "    else:\n",
    "        continue\n",
    "\n",
    "if len(hmin) == 0:\n",
    "    res = [0,0]\n",
    "else:\n",
    "    minval = heapq.heappop(hmin)\n",
    "    hmax = []\n",
    "        \n",
    "    for item in hmin:\n",
    "        heapq.heappush(hmax , -item)\n",
    "    maxval = -heapq.heappop(hmax) \n",
    "    res = [maxval , minval]\n",
    "\n",
    "    \n",
    "    "
   ]
  },
  {
   "cell_type": "code",
   "execution_count": 28,
   "id": "7f7601b7-18c1-4aed-abc6-d0b00e629d00",
   "metadata": {},
   "outputs": [
    {
     "data": {
      "text/plain": [
       "[0, 0]"
      ]
     },
     "execution_count": 28,
     "metadata": {},
     "output_type": "execute_result"
    }
   ],
   "source": [
    "#성공\n",
    "import heapq\n",
    "def solution(operations):\n",
    "    hmin = []\n",
    "    hmax = []\n",
    "    for x in operations:\n",
    "        if x == \"D 1\" and len(hmin) > 0:\n",
    "            hmax = []\n",
    "            for item in hmin:\n",
    "                heapq.heappush(hmax , -item)\n",
    "            heapq.heappop(hmax) \n",
    "            hmin = []\n",
    "            for item in hmax:\n",
    "                heapq.heappush(hmin , -item)\n",
    "        elif x == \"D -1\" and len(hmin) > 0:\n",
    "            heapq.heappop(hmin)\n",
    "        elif x[0] == \"I\":\n",
    "            txt = x[2:]\n",
    "            heapq.heappush(hmin ,int(txt))\n",
    "        else:\n",
    "            continue\n",
    "    if len(hmin) == 0:\n",
    "        res = [0,0]\n",
    "    else:\n",
    "        minval = heapq.heappop(hmin)\n",
    "        hmax = []\n",
    "\n",
    "        for item in hmin:\n",
    "            heapq.heappush(hmax , -item)\n",
    "        maxval = -heapq.heappop(hmax) \n",
    "        res = [maxval,minval]\n",
    "    return res"
   ]
  },
  {
   "cell_type": "code",
   "execution_count": null,
   "id": "fd0c780f-fa97-494d-aad4-dc1eb79f538a",
   "metadata": {},
   "outputs": [],
   "source": [
    "# 모범답안\n",
    "from heapq import heappush, heappop\n",
    "\n",
    "def solution(arguments):\n",
    "    max_heap = []\n",
    "    min_heap = []\n",
    "    for arg in arguments:\n",
    "        if arg == \"D 1\":\n",
    "            if max_heap != []:\n",
    "                heappop(max_heap)\n",
    "                if max_heap == [] or -max_heap[0] < min_heap[0]:\n",
    "                    min_heap = []\n",
    "                    max_heap = []\n",
    "        elif arg == \"D -1\":\n",
    "            if min_heap != []:\n",
    "                heappop(min_heap)\n",
    "                if min_heap == [] or -max_heap[0] < min_heap[0]:\n",
    "                    max_heap = []\n",
    "                    min_heap = []\n",
    "        else:\n",
    "            num = int(arg[2:])\n",
    "            heappush(max_heap, -num)\n",
    "            heappush(min_heap, num)\n",
    "    if min_heap == []:\n",
    "        return [0, 0]\n",
    "    return [-heappop(max_heap), heappop(min_heap)]"
   ]
  }
 ],
 "metadata": {
  "kernelspec": {
   "display_name": "Python [conda env:nlp38]",
   "language": "python",
   "name": "conda-env-nlp38-py"
  },
  "language_info": {
   "codemirror_mode": {
    "name": "ipython",
    "version": 3
   },
   "file_extension": ".py",
   "mimetype": "text/x-python",
   "name": "python",
   "nbconvert_exporter": "python",
   "pygments_lexer": "ipython3",
   "version": "3.8.13"
  }
 },
 "nbformat": 4,
 "nbformat_minor": 5
}
