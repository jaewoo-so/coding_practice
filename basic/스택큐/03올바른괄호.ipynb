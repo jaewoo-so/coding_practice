{
 "cells": [
  {
   "cell_type": "code",
   "execution_count": null,
   "id": "072a0d3a-48d3-41aa-9760-2bdfe9b5afb4",
   "metadata": {},
   "outputs": [],
   "source": [
    "def solution(s):\n",
    "    answer = True\n",
    "    \n",
    "    # [실행] 버튼을 누르면 출력 값을 볼 수 있습니다.\n",
    "    print('Hello Python')\n",
    "\n",
    "    return True"
   ]
  },
  {
   "cell_type": "code",
   "execution_count": 6,
   "id": "5dc39a58-388f-471b-9fe6-376b0bb9b6b9",
   "metadata": {},
   "outputs": [],
   "source": [
    "s = '((()))'\n",
    "s = '(())('\n",
    "s = '())(()'"
   ]
  },
  {
   "cell_type": "code",
   "execution_count": 1,
   "id": "ec8951b0-f2ec-4ef4-b444-618c9c5b6daf",
   "metadata": {},
   "outputs": [],
   "source": [
    "from collections import Counter"
   ]
  },
  {
   "cell_type": "code",
   "execution_count": 5,
   "id": "2f691238-277a-4081-813f-621251c6a737",
   "metadata": {},
   "outputs": [
    {
     "data": {
      "text/plain": [
       "3"
      ]
     },
     "execution_count": 5,
     "metadata": {},
     "output_type": "execute_result"
    }
   ],
   "source": []
  },
  {
   "cell_type": "code",
   "execution_count": 7,
   "id": "8c4e7220-47c2-4898-a67c-2c2421642c29",
   "metadata": {},
   "outputs": [
    {
     "data": {
      "text/plain": [
       "True"
      ]
     },
     "execution_count": 7,
     "metadata": {},
     "output_type": "execute_result"
    }
   ],
   "source": [
    "#실패\n",
    "from collections import Counter\n",
    "def solution(s):\n",
    "    if s[0] == ')' or s[-1] == '(' or Counter(s)['('] != Counter(s)[')']:\n",
    "        return False\n",
    "    else:\n",
    "        return True\n",
    "solution(s)  "
   ]
  },
  {
   "cell_type": "code",
   "execution_count": 8,
   "id": "22fbc9e1-281c-4a2a-8ea4-1994b301193d",
   "metadata": {},
   "outputs": [
    {
     "name": "stdout",
     "output_type": "stream",
     "text": [
      "(\n",
      ")\n",
      ")\n",
      "(\n",
      "(\n",
      ")\n"
     ]
    }
   ],
   "source": [
    "l = 0\n",
    "r = 0\n",
    "\n",
    "if s[0] == ')' or s[-1] == '(':\n",
    "    return False\n",
    "\n",
    "cur == '('\n",
    "for ss in s:\n",
    "    if ss == '(':\n",
    "        l += 1\n",
    "    else:\n",
    "        r += 1\n",
    "\n",
    "    if l < r:\n",
    "        return False\n",
    "return True\n",
    "    \n",
    "    \n",
    "    "
   ]
  },
  {
   "cell_type": "code",
   "execution_count": null,
   "id": "bf0902d6-158d-4220-8df4-26b2eafd94d6",
   "metadata": {},
   "outputs": [],
   "source": [
    "# 성공\n",
    "def solution(s):\n",
    "    l = 0\n",
    "    r = 0\n",
    "\n",
    "    if s[0] == ')' or s[-1] == '(':\n",
    "        return False\n",
    "\n",
    "    for ss in s:\n",
    "        if ss == '(':\n",
    "            l += 1\n",
    "        else:\n",
    "            r += 1\n",
    "\n",
    "        if l < r:\n",
    "            return False\n",
    "    if l != r:\n",
    "        return False\n",
    "    return True\n",
    "    \n",
    "    \n",
    "    "
   ]
  },
  {
   "cell_type": "code",
   "execution_count": null,
   "id": "74f9c63c-e283-4ea7-9204-ed7f8d18172d",
   "metadata": {},
   "outputs": [],
   "source": [
    "#정답\n",
    "def is_pair(s):\n",
    "    pair = 0\n",
    "    for x in s:\n",
    "        if pair < 0: break\n",
    "        pair = pair + 1 if x == \"(\" else pair - 1 if x == \")\" else pair\n",
    "    return pair == 0"
   ]
  },
  {
   "cell_type": "code",
   "execution_count": 16,
   "id": "3e741330-6165-4961-acc1-1a5404a74ad7",
   "metadata": {},
   "outputs": [],
   "source": [
    "x = ')'"
   ]
  },
  {
   "cell_type": "code",
   "execution_count": 15,
   "id": "e7fa48d3-1469-4400-8424-2eac5b0f3520",
   "metadata": {},
   "outputs": [
    {
     "data": {
      "text/plain": [
       "1"
      ]
     },
     "execution_count": 15,
     "metadata": {},
     "output_type": "execute_result"
    }
   ],
   "source": [
    "3 if x == \"(\" else 2 if x == \")\" else 1"
   ]
  },
  {
   "cell_type": "code",
   "execution_count": null,
   "id": "de210106-602f-4f51-b7be-0db17428d06b",
   "metadata": {},
   "outputs": [],
   "source": []
  }
 ],
 "metadata": {
  "kernelspec": {
   "display_name": "'nlp38'",
   "language": "python",
   "name": "nlp38"
  },
  "language_info": {
   "codemirror_mode": {
    "name": "ipython",
    "version": 3
   },
   "file_extension": ".py",
   "mimetype": "text/x-python",
   "name": "python",
   "nbconvert_exporter": "python",
   "pygments_lexer": "ipython3",
   "version": "3.8.13"
  }
 },
 "nbformat": 4,
 "nbformat_minor": 5
}
