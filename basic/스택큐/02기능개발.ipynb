{
 "cells": [
  {
   "cell_type": "code",
   "execution_count": 8,
   "id": "3f89a926-6537-4766-820f-a28ac4fa4a50",
   "metadata": {},
   "outputs": [],
   "source": [
    "import math "
   ]
  },
  {
   "cell_type": "code",
   "execution_count": 1,
   "id": "32a0cdf1-703d-479c-b63a-215618aefb8c",
   "metadata": {},
   "outputs": [],
   "source": [
    "progresses = [93, 30, 55]\n",
    "speeds = [1, 30, 5]\n",
    "\n",
    "progresses = [95, 90, 99, 99, 80, 99]\n",
    "speeds = [1, 1, 1, 1, 1, 1]"
   ]
  },
  {
   "cell_type": "code",
   "execution_count": 2,
   "id": "f05113db-6673-4585-956a-b06d1cce619a",
   "metadata": {},
   "outputs": [],
   "source": [
    "def solution(progresses, speeds):\n",
    "    answer = []\n",
    "    return answer"
   ]
  },
  {
   "cell_type": "code",
   "execution_count": 3,
   "id": "644e686e-ab10-43a8-9512-88ec0c176a94",
   "metadata": {},
   "outputs": [],
   "source": [
    "#남은날 계산\n",
    "progresses = [95, 90, 99, 99, 80, 99]\n",
    "speeds = [1, 1, 1, 1, 1, 1]\n"
   ]
  },
  {
   "cell_type": "code",
   "execution_count": 6,
   "id": "45003738-1e56-40da-9d3c-1961dd851e94",
   "metadata": {},
   "outputs": [],
   "source": [
    "lefts = [100-x for x in progresses]"
   ]
  },
  {
   "cell_type": "code",
   "execution_count": 27,
   "id": "c11b7b19-937e-404f-9c99-7a998e3ca116",
   "metadata": {},
   "outputs": [],
   "source": [
    "progresses = [93, 30, 55]\n",
    "speeds = [1, 30, 5]"
   ]
  },
  {
   "cell_type": "code",
   "execution_count": 28,
   "id": "d8332eb6-04cf-4f3b-a29f-4efc57c4bfa8",
   "metadata": {},
   "outputs": [
    {
     "name": "stdout",
     "output_type": "stream",
     "text": [
      "step : 0\n",
      "progress 0\n",
      "eval 7\n",
      "end_job 0\n",
      "\n",
      "step : 1\n",
      "progress 0\n",
      "eval 6\n",
      "end_job 0\n",
      "\n",
      "step : 2\n",
      "progress 0\n",
      "eval 5\n",
      "end_job 0\n",
      "\n",
      "step : 3\n",
      "progress 0\n",
      "eval 4\n",
      "end_job 0\n",
      "\n",
      "step : 4\n",
      "progress 0\n",
      "eval 3\n",
      "end_job 0\n",
      "\n",
      "step : 5\n",
      "progress 0\n",
      "eval 2\n",
      "end_job 0\n",
      "\n",
      "step : 6\n",
      "progress 0\n",
      "eval 1\n",
      "end_job 0\n",
      "\n",
      "step : 7\n",
      "progress 0\n",
      "eval 0\n",
      "progress 1\n",
      "eval -140\n",
      "progress 2\n",
      "eval 10\n",
      "end_job 2\n",
      "\n",
      "step : 8\n",
      "progress 2\n",
      "eval 5\n",
      "end_job 0\n",
      "\n",
      "step : 9\n",
      "progress 2\n",
      "eval 0\n",
      "end_job 1\n",
      "\n"
     ]
    }
   ],
   "source": [
    "step = 0\n",
    "progress = 0\n",
    "\n",
    "res = []\n",
    "while True:\n",
    "    print(f'step : {step}')\n",
    "    end_flag= True\n",
    "    end_job = 0\n",
    "    while end_flag:\n",
    "        if progress == len(speeds):\n",
    "            break\n",
    "        \n",
    "        print(f'progress {progress}')\n",
    "        print(f'eval {100 - (progresses[progress] + speeds[progress]* step)}')\n",
    "       \n",
    "        if 100 - (progresses[progress] + speeds[progress]* step) <= 0:\n",
    "            end_job += 1\n",
    "            progress += 1\n",
    "        else:\n",
    "            end_flag = False\n",
    "    print(f'end_job {end_job}')\n",
    "    print()\n",
    "    if end_job > 0:\n",
    "        res.append(end_job)\n",
    "    step += 1\n",
    "    if progress == len(speeds):\n",
    "        break"
   ]
  },
  {
   "cell_type": "code",
   "execution_count": 29,
   "id": "1dcea799-b75b-4754-9cab-5efa25eb8a59",
   "metadata": {},
   "outputs": [
    {
     "data": {
      "text/plain": [
       "[2, 1]"
      ]
     },
     "execution_count": 29,
     "metadata": {},
     "output_type": "execute_result"
    }
   ],
   "source": [
    "res"
   ]
  },
  {
   "cell_type": "code",
   "execution_count": 30,
   "id": "bb968a39-f8d0-4edf-a84b-efd94a5140d8",
   "metadata": {},
   "outputs": [],
   "source": [
    "def solution(progresses, speeds):\n",
    "    step = 0\n",
    "    progress = 0\n",
    "    res = []\n",
    "    while True:\n",
    "        end_flag= True\n",
    "        end_job = 0\n",
    "        while end_flag:\n",
    "            if progress == len(speeds):\n",
    "                break\n",
    "\n",
    "            if 100 - (progresses[progress] + speeds[progress]* step) <= 0:\n",
    "                end_job += 1\n",
    "                progress += 1\n",
    "            else:\n",
    "                end_flag = False\n",
    "        if end_job > 0:\n",
    "            res.append(end_job)\n",
    "        step += 1\n",
    "        if progress == len(speeds):\n",
    "            break\n",
    "    return res"
   ]
  },
  {
   "cell_type": "code",
   "execution_count": null,
   "id": "7716a82c-0e7b-4f73-aac9-3004c9f79d2c",
   "metadata": {},
   "outputs": [],
   "source": [
    "# 정답\n",
    "def solution(progresses, speeds):\n",
    "    Q=[]\n",
    "    for p, s in zip(progresses, speeds):\n",
    "        if len(Q)==0 or Q[-1][0]<-((p-100)//s):\n",
    "            Q.append([-((p-100)//s),1])\n",
    "        else:\n",
    "            Q[-1][1]+=1\n",
    "    return [q[1] for q in Q]"
   ]
  },
  {
   "cell_type": "code",
   "execution_count": 58,
   "id": "499c5295-f823-4b7f-b4b1-b2799366a3e2",
   "metadata": {},
   "outputs": [],
   "source": [
    "#progresses = [93, 30, 55]\n",
    "#speeds = [1, 30, 5]\n",
    "\n",
    "progresses = [95, 90, 99, 99, 80, 99]\n",
    "speeds = [1, 1, 1, 1, 1, 1]"
   ]
  },
  {
   "cell_type": "code",
   "execution_count": 59,
   "id": "5849f0a4-f506-4cf3-b557-1862b11dbe88",
   "metadata": {},
   "outputs": [
    {
     "name": "stdout",
     "output_type": "stream",
     "text": [
      "95 1\n",
      "Q :  []\n",
      "-((p-100)//s)   5\n",
      "\n",
      "90 1\n",
      "Q :  [[5, 1]]\n",
      "Q[-1][0]   5\n",
      "-((p-100)//s)   10\n",
      "\n",
      "99 1\n",
      "Q :  [[5, 1], [10, 1]]\n",
      "Q[-1][0]   10\n",
      "-((p-100)//s)   1\n",
      "\n",
      "99 1\n",
      "Q :  [[5, 1], [10, 2]]\n",
      "Q[-1][0]   10\n",
      "-((p-100)//s)   1\n",
      "\n",
      "80 1\n",
      "Q :  [[5, 1], [10, 3]]\n",
      "Q[-1][0]   10\n",
      "-((p-100)//s)   20\n",
      "\n",
      "99 1\n",
      "Q :  [[5, 1], [10, 3], [20, 1]]\n",
      "Q[-1][0]   20\n",
      "-((p-100)//s)   1\n",
      "\n"
     ]
    }
   ],
   "source": [
    " Q=[]\n",
    "for p, s in zip(progresses, speeds):\n",
    "    print(p,s)\n",
    "    print('Q : ' , Q)\n",
    "    try:\n",
    "        print('Q[-1][0]  ' , Q[-1][0])\n",
    "    except:\n",
    "        pass\n",
    "    print( '-((p-100)//s)  ', -((p-100)//s))\n",
    "    if len(Q)==0 or Q[-1][0]<-((p-100)//s):\n",
    "        Q.append([-((p-100)//s),1])\n",
    "    else:\n",
    "        Q[-1][1]+=1\n",
    "    print()"
   ]
  },
  {
   "cell_type": "code",
   "execution_count": null,
   "id": "98e1ee18-f839-4ac5-83a0-393d6e9d3383",
   "metadata": {},
   "outputs": [],
   "source": []
  }
 ],
 "metadata": {
  "kernelspec": {
   "display_name": "'nlp38'",
   "language": "python",
   "name": "nlp38"
  },
  "language_info": {
   "codemirror_mode": {
    "name": "ipython",
    "version": 3
   },
   "file_extension": ".py",
   "mimetype": "text/x-python",
   "name": "python",
   "nbconvert_exporter": "python",
   "pygments_lexer": "ipython3",
   "version": "3.8.13"
  }
 },
 "nbformat": 4,
 "nbformat_minor": 5
}
