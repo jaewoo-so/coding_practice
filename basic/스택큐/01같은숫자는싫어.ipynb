{
 "cells": [
  {
   "cell_type": "code",
   "execution_count": 1,
   "id": "4ba667af-6b1e-4f4e-86c6-566dfbdb0e10",
   "metadata": {},
   "outputs": [],
   "source": [
    "arr = \t[1, 1, 3, 3, 0, 1, 1]"
   ]
  },
  {
   "cell_type": "code",
   "execution_count": null,
   "id": "2eeb0bdc-50a5-48b1-b330-f195cf9ecd18",
   "metadata": {},
   "outputs": [],
   "source": [
    "def solution(arr):\n",
    "    res = [arr[0]]\n",
    "    f = arr[0]\n",
    "    for x in arr:\n",
    "        if x != f:\n",
    "            res.append(x)\n",
    "            f = x\n",
    "    return res"
   ]
  },
  {
   "cell_type": "code",
   "execution_count": 2,
   "id": "5ea4ee5c-ce96-43ce-bfdb-6802d1963f20",
   "metadata": {},
   "outputs": [
    {
     "name": "stdout",
     "output_type": "stream",
     "text": [
      "['1', '3', '0', '3']\n"
     ]
    }
   ],
   "source": [
    "# 정답\n",
    "def no_continuous(s):\n",
    "    # 함수를 완성하세요\n",
    "    a = []\n",
    "    for i in s:\n",
    "        if a[-1:] == [i]: continue\n",
    "        a.append(i)\n",
    "    return a\n",
    "\n",
    "# 아래는 테스트로 출력해 보기 위한 코드입니다.\n",
    "print( no_continuous( \"133303\" ))"
   ]
  }
 ],
 "metadata": {
  "kernelspec": {
   "display_name": "'nlp38'",
   "language": "python",
   "name": "nlp38"
  },
  "language_info": {
   "codemirror_mode": {
    "name": "ipython",
    "version": 3
   },
   "file_extension": ".py",
   "mimetype": "text/x-python",
   "name": "python",
   "nbconvert_exporter": "python",
   "pygments_lexer": "ipython3",
   "version": "3.8.13"
  }
 },
 "nbformat": 4,
 "nbformat_minor": 5
}
