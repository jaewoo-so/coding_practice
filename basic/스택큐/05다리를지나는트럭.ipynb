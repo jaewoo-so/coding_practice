{
 "cells": [
  {
   "cell_type": "code",
   "execution_count": null,
   "id": "0b15ed8a-a06b-4d38-89b7-d3dfae8c491b",
   "metadata": {},
   "outputs": [],
   "source": [
    "def solution(bridge_length, weight, truck_weights):\n",
    "    answer = 0\n",
    "    return answer"
   ]
  },
  {
   "cell_type": "code",
   "execution_count": 2,
   "id": "2a04ddf4-6d28-4541-8758-b319fe4d85f9",
   "metadata": {},
   "outputs": [],
   "source": [
    "bridge_length = 2\n",
    "weight = 10\n",
    "truck_weights = [7, 4, 5, 6]\n",
    "left_w = 10"
   ]
  },
  {
   "cell_type": "code",
   "execution_count": null,
   "id": "299020d2-801c-48bf-932d-10f3a90b9412",
   "metadata": {},
   "outputs": [],
   "source": [
    "'''\n",
    "테스트 1 〉\t통과 (0.60ms, 10.3MB)\n",
    "테스트 2 〉\t통과 (13.03ms, 10.2MB)\n",
    "테스트 3 〉\t통과 (0.01ms, 10.2MB)\n",
    "테스트 4 〉\t통과 (40.39ms, 10.1MB)\n",
    "테스트 5 〉\t통과 (298.75ms, 10.2MB)\n",
    "테스트 6 〉\t통과 (138.50ms, 10.3MB)\n",
    "테스트 7 〉\t통과 (1.37ms, 10.2MB)\n",
    "테스트 8 〉\t통과 (0.22ms, 10.4MB)\n",
    "테스트 9 〉\t통과 (7.03ms, 10.1MB)\n",
    "테스트 10 〉\t통과 (0.34ms, 10.3MB)\n",
    "테스트 11 〉\t통과 (0.01ms, 10.1MB)\n",
    "테스트 12 〉\t통과 (0.34ms, 10.1MB)\n",
    "테스트 13 〉\t통과 (1.29ms, 10.1MB)\n",
    "테스트 14 〉\t통과 (0.01ms, 10.2MB)\n",
    "'''\n",
    "def solution(bridge_length, weight, truck_weights):\n",
    "    step = 0 \n",
    "    left = []\n",
    "    weight_left = weight\n",
    "    onb_w = []\n",
    "    while True:\n",
    "        step += 1\n",
    "        left = [x-1 for x in left]\n",
    "        if len(truck_weights) == 0:\n",
    "            return step + max(left) \n",
    "        \n",
    "        if len(left) > 0 and left[0] == 0:\n",
    "            left.pop(0)\n",
    "            weight_left += onb_w.pop(0)\n",
    "            \n",
    "        if weight_left >= truck_weights[0]:\n",
    "            left.append( bridge_length )\n",
    "            weight_left -= truck_weights[0]\n",
    "            onb_w.append( truck_weights[0])\n",
    "            truck_weights.pop(0)\n",
    "        \n"
   ]
  },
  {
   "cell_type": "code",
   "execution_count": 43,
   "id": "f3a878db-cbaa-4f69-87df-016b6eefeb3f",
   "metadata": {},
   "outputs": [],
   "source": [
    "def solution(bridge_length, weight, truck_weights):\n",
    "    step = 0 \n",
    "    left = []\n",
    "    weight_left = weight\n",
    "    onb_w = []\n",
    "    while True:\n",
    "        step += 1\n",
    "        \n",
    "        left = [x-1 for x in left]\n",
    "        print(left)\n",
    "        if len(truck_weights) == 0:\n",
    "            print(step + max(left) )\n",
    "            return step + max(left) \n",
    "        \n",
    "        if len(left) > 0 and left[0] == 0:\n",
    "            print('step 3')\n",
    "            left.pop(0)\n",
    "            weight_left += onb_w.pop(0)\n",
    "        \n",
    "        if weight_left >= truck_weights[0]:\n",
    "            print('step2')\n",
    "            left.append( bridge_length )\n",
    "            weight_left -= truck_weights[0]\n",
    "            onb_w.append( truck_weights[0])\n",
    "            print(truck_weights[0])\n",
    "            truck_weights.pop(0)\n",
    "            \n",
    "        print(step)\n",
    "        print()\n",
    "        \n"
   ]
  },
  {
   "cell_type": "code",
   "execution_count": 44,
   "id": "ad66c912-b929-48ee-ac5f-b94e99bc34bc",
   "metadata": {},
   "outputs": [
    {
     "name": "stdout",
     "output_type": "stream",
     "text": [
      "[]\n",
      "step2\n",
      "10\n",
      "1\n",
      "\n",
      "[99]\n",
      "101\n"
     ]
    },
    {
     "data": {
      "text/plain": [
       "100"
      ]
     },
     "execution_count": 44,
     "metadata": {},
     "output_type": "execute_result"
    }
   ],
   "source": [
    "bridge_length = 100\n",
    "weight = 100\n",
    "truck_weights = [10]\n",
    "solution(bridge_length, weight, truck_weights)"
   ]
  },
  {
   "cell_type": "code",
   "execution_count": null,
   "id": "57486a54-87c2-48a4-a777-e01965feb38b",
   "metadata": {},
   "outputs": [],
   "source": []
  },
  {
   "cell_type": "code",
   "execution_count": 45,
   "id": "374c7eaf-68a3-4ac5-b503-84855439b06f",
   "metadata": {},
   "outputs": [
    {
     "name": "stdout",
     "output_type": "stream",
     "text": [
      "[]\n",
      "step2\n",
      "7\n",
      "1\n",
      "\n",
      "[1]\n",
      "2\n",
      "\n",
      "[0]\n",
      "step 3\n",
      "step2\n",
      "4\n",
      "3\n",
      "\n",
      "[1]\n",
      "step2\n",
      "5\n",
      "4\n",
      "\n",
      "[0, 1]\n",
      "step 3\n",
      "5\n",
      "\n",
      "[0]\n",
      "step 3\n",
      "step2\n",
      "6\n",
      "6\n",
      "\n",
      "[1]\n",
      "8\n"
     ]
    },
    {
     "data": {
      "text/plain": [
       "7"
      ]
     },
     "execution_count": 45,
     "metadata": {},
     "output_type": "execute_result"
    }
   ],
   "source": [
    "bridge_length = 2\n",
    "weight = 10\n",
    "truck_weights = [7, 4, 5, 6]\n",
    "solution(bridge_length, weight, truck_weights)"
   ]
  },
  {
   "cell_type": "code",
   "execution_count": 11,
   "id": "d56e3234-9143-47b7-aa30-c2a3ce858eba",
   "metadata": {},
   "outputs": [
    {
     "name": "stdout",
     "output_type": "stream",
     "text": [
      "10\n"
     ]
    }
   ],
   "source": [
    "# 정답중 하나\n",
    "'''\n",
    "\n",
    "테스트 1 〉\t통과 (0.32ms, 10.1MB)\n",
    "테스트 2 〉\t통과 (6.70ms, 10.4MB)\n",
    "테스트 3 〉\t통과 (0.02ms, 10.1MB)\n",
    "테스트 4 〉\t통과 (5.45ms, 10.2MB)\n",
    "테스트 5 〉\t통과 (52.04ms, 10.4MB)\n",
    "테스트 6 〉\t통과 (16.48ms, 10.3MB)\n",
    "테스트 7 〉\t통과 (0.57ms, 10.3MB)\n",
    "테스트 8 〉\t통과 (0.12ms, 10.1MB)\n",
    "테스트 9 〉\t통과 (1.95ms, 10MB)\n",
    "테스트 10 〉\t통과 (0.08ms, 10MB)\n",
    "테스트 11 〉\t통과 (0.01ms, 10.2MB)\n",
    "테스트 12 〉\t통과 (0.14ms, 10.3MB)\n",
    "테스트 13 〉\t통과 (1.18ms, 10.1MB)\n",
    "테스트 14 〉\t통과 (0.01ms, 10.2MB)\n",
    "'''\n",
    "from collections import deque\n",
    "\n",
    "def solution(bridge_length, weight, truck_weights):\n",
    "    bridge = deque(0 for _ in range(bridge_length))\n",
    "    total_weight = 0\n",
    "    step = 0\n",
    "    truck_weights.reverse()\n",
    "\n",
    "    while truck_weights:\n",
    "        total_weight -= bridge.popleft()\n",
    "        if total_weight + truck_weights[-1] > weight:\n",
    "            bridge.append(0)\n",
    "        else:\n",
    "            truck = truck_weights.pop()\n",
    "            bridge.append(truck)\n",
    "            total_weight += truck\n",
    "        step += 1\n",
    "\n",
    "    step += bridge_length\n",
    "\n",
    "    return step"
   ]
  },
  {
   "cell_type": "code",
   "execution_count": null,
   "id": "4ad8d43c-5ef5-4c5b-b76b-ac575d2797b7",
   "metadata": {},
   "outputs": [],
   "source": []
  }
 ],
 "metadata": {
  "kernelspec": {
   "display_name": "Python [conda env:nlp38]",
   "language": "python",
   "name": "conda-env-nlp38-py"
  },
  "language_info": {
   "codemirror_mode": {
    "name": "ipython",
    "version": 3
   },
   "file_extension": ".py",
   "mimetype": "text/x-python",
   "name": "python",
   "nbconvert_exporter": "python",
   "pygments_lexer": "ipython3",
   "version": "3.8.13"
  }
 },
 "nbformat": 4,
 "nbformat_minor": 5
}
