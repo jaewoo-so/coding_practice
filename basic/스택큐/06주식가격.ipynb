{
 "cells": [
  {
   "cell_type": "markdown",
   "id": "fb9ae77b-8c7d-42ad-9d1e-b55cee16651b",
   "metadata": {},
   "source": [
    "문제 설명\n",
    "초 단위로 기록된 주식가격이 담긴 배열 prices가 매개변수로 주어질 때, 가격이 떨어지지 않은 기간은 몇 초인지를 return 하도록 solution 함수를 완성하세요.\n",
    "\n",
    "제한사항\n",
    "prices의 각 가격은 1 이상 10,000 이하인 자연수입니다.\n",
    "prices의 길이는 2 이상 100,000 이하입니다.\n",
    "입출력 예\n",
    "prices\treturn\n",
    "[1, 2, 3, 2, 3]\t[4, 3, 1, 1, 0]\n",
    "입출력 예 설명\n",
    "1초 시점의 ₩1은 끝까지 가격이 떨어지지 않았습니다.\n",
    "2초 시점의 ₩2은 끝까지 가격이 떨어지지 않았습니다.\n",
    "3초 시점의 ₩3은 1초뒤에 가격이 떨어집니다. 따라서 1초간 가격이 떨어지지 않은 것으로 봅니다.\n",
    "4초 시점의 ₩2은 1초간 가격이 떨어지지 않았습니다.\n",
    "5초 시점의 ₩3은 0초간 가격이 떨어지지 않았습니다."
   ]
  },
  {
   "cell_type": "code",
   "execution_count": 33,
   "id": "04002b61-beda-418e-9bfd-681ee0b7f9c3",
   "metadata": {},
   "outputs": [],
   "source": [
    "prices = [1, 2, 3, 2, 3]\n",
    "# [4, 3, 1, 1, 0]"
   ]
  },
  {
   "cell_type": "code",
   "execution_count": 34,
   "id": "bb511735-c360-4054-9a2b-b14c36050f1b",
   "metadata": {},
   "outputs": [],
   "source": [
    "def solution(prices):\n",
    "    answer = []\n",
    "    return answer"
   ]
  },
  {
   "cell_type": "code",
   "execution_count": null,
   "id": "e309d72a-8993-4dab-927c-e5a75ca6e5b3",
   "metadata": {},
   "outputs": [],
   "source": [
    "## 디큐롷 바꿔보기 (성공)\n",
    "from collections import deque\n",
    "\n",
    "def solution(prices):\n",
    "    q = deque(prices)\n",
    "    res = []\n",
    "    while(q):\n",
    "        cnt = 0\n",
    "        trg = q.popleft()\n",
    "        for item in q:\n",
    "            cnt += 1\n",
    "            if trg > item:\n",
    "                break\n",
    "        res.append(cnt)\n",
    "    return res\n",
    "    \n",
    "\n",
    "prices = [2,3,3,7,7,4,1,5]\n",
    "solution(prices)"
   ]
  },
  {
   "cell_type": "code",
   "execution_count": null,
   "id": "4ba78764-cc3e-4c8f-a00b-10d494f3901a",
   "metadata": {},
   "outputs": [],
   "source": []
  },
  {
   "cell_type": "code",
   "execution_count": 20,
   "id": "ed948ca1-a006-4059-8b3e-8a0471a09c93",
   "metadata": {},
   "outputs": [],
   "source": [
    "# 실패 : 시간초과\n",
    "def solution(prices):\n",
    "    steps = []\n",
    "    while True:\n",
    "        if len(prices) == 1:\n",
    "            steps.append(0)\n",
    "            break\n",
    "        c = prices[0]\n",
    "        prices.pop(0)\n",
    "        \n",
    "        step = 0 \n",
    "        for trg in prices:\n",
    "            step += 1\n",
    "            if c <= trg:\n",
    "                continue\n",
    "            else:\n",
    "                break\n",
    "\n",
    "        steps.append(step)\n",
    "    \n",
    "    return steps\n",
    "\n",
    "prices = [1, 2, 3, 2, 3]\n",
    "solution(prices)"
   ]
  },
  {
   "cell_type": "code",
   "execution_count": null,
   "id": "44a5943f-38be-4f19-ac36-52757281b613",
   "metadata": {},
   "outputs": [],
   "source": [
    "# 쉬프트 사용해보았다. : 시간초과 실패\n",
    "import numpy as np\n",
    "def solution(prices):\n",
    "\n",
    "    arr1 = prices\n",
    "    arr_drop = np.zeros_like(prices)\n",
    "    arr_exist = np.ones_like(prices)\n",
    "    for i in range(len(prices) - 1):\n",
    "        i += 1\n",
    "        arr2 = np.roll(arr1, -i)\n",
    "        arr2[-i:] = 0\n",
    "        res = arr2 - arr1\n",
    "\n",
    "        # 끝난 위치는 1로 치환\n",
    "        arr_drop_temp = np.zeros_like(prices)\n",
    "        arr_drop_temp[np.where(res < 0)] = 1\n",
    "        arr_drop[-i] = 1\n",
    "\n",
    "        if i == 1:\n",
    "            if res[-1] < 0:\n",
    "                arr_exist[-1] = 0\n",
    "                arr_drop += arr_drop_temp\n",
    "            continue\n",
    "\n",
    "        arr_exist[np.where(arr_drop == 0)] +=1 # 안끝난 위치는 1씩 더한다. \n",
    "        arr_drop += arr_drop_temp\n",
    "        \n",
    "        \n",
    "    return [ int(x) for x in list(arr_exist)]\n",
    "prices = [1, 2, 3, 2, 3]\n",
    "solution(prices)"
   ]
  },
  {
   "cell_type": "code",
   "execution_count": 130,
   "id": "ab64a11a-b679-4588-a9ba-30fa01928465",
   "metadata": {},
   "outputs": [],
   "source": [
    "# 시간초과로 실패 \n",
    "import queue\n",
    "def solution(prices):\n",
    "    q = queue.Queue()\n",
    "\n",
    "    for i in range(len(prices)):\n",
    "        t_list = prices[i+1:]\n",
    "        #print(prices[i] ,t_list )\n",
    "        exist_days = 0\n",
    "        for t in t_list:\n",
    "            exist_days+=1\n",
    "            #print(f'비교 {prices[i]} : {t}')\n",
    "            if t >= prices[i]:\n",
    "                continue\n",
    "            else:\n",
    "                break\n",
    "        q.put(exist_days)\n",
    "    return list(q.queue)"
   ]
  },
  {
   "cell_type": "code",
   "execution_count": 131,
   "id": "2ce64414-c4e1-4f1a-9c3b-8e7fc38caaf5",
   "metadata": {},
   "outputs": [
    {
     "data": {
      "text/plain": [
       "[6, 5, 4, 2, 1, 1, 1, 0]"
      ]
     },
     "execution_count": 131,
     "metadata": {},
     "output_type": "execute_result"
    }
   ],
   "source": [
    "prices = [2,3,3,7,7,4,1,5]\n",
    "solution(prices)"
   ]
  },
  {
   "cell_type": "code",
   "execution_count": 26,
   "id": "7dab4b11-67d4-4889-8b93-a42f171b17f7",
   "metadata": {
    "tags": []
   },
   "outputs": [],
   "source": [
    "# 시간으로 실패\n",
    "import numpy as np\n",
    "\n",
    "prices = [2,3,3,7,7,4,1,5]\n",
    "prices = [1, 2, 3, 2, 3]\n",
    "arr1 = prices\n",
    "arr_drop = np.zeros_like(prices)\n",
    "arr_exist = np.ones_like(prices)\n",
    "for i in range(len(prices) - 1):\n",
    "    print(i)\n",
    "    i += 1\n",
    "    arr2 = np.roll(arr1, -i)\n",
    "    arr2[-i:] = 0\n",
    "    res = arr2 - arr1\n",
    "    res[-1] = -1\n",
    "    print('arr2 : ',arr2 )\n",
    "    print('res : ',res )\n",
    "    \n",
    "    \n",
    "    # 끝난 위치는 1로 치환\n",
    "    arr_drop_temp = np.zeros_like(prices)\n",
    "    arr_drop_temp[np.where(res < 0)] = 1\n",
    "    print('arr_drop_temp : ', arr_drop_temp)\n",
    "    \n",
    "    \n",
    "    print('arr_drop : ', arr_drop)\n",
    "    \n",
    "    if i == 1:\n",
    "        if res[-1] < 0:\n",
    "            arr_exist[-1] = 0\n",
    "            arr_drop += arr_drop_temp\n",
    "            print(arr_exist)\n",
    "            print()\n",
    "        continue\n",
    "    \n",
    "    print(arr_exist)\n",
    "    print('arr_drop : ', arr_drop)\n",
    "    arr_drop[-i:] = 1\n",
    "    print('arr_drop_last = 0  : ', arr_drop)\n",
    "    arr_exist[np.where(arr_drop == 0)] +=1 \n",
    "    arr_drop += arr_drop_temp\n",
    "    print('arr_drop_next : ', arr_drop)\n",
    "    #arr_exist[np.where(arr_drop == 0)] +=1 # 안끝난 위치는 1씩 더한다. \n",
    "    print(arr_exist)\n",
    "    print()\n",
    "result = [ int(x) for x in list(arr_exist)]\n",
    "\n",
    "\n",
    "        \n",
    "        "
   ]
  },
  {
   "cell_type": "code",
   "execution_count": 64,
   "id": "b58fd89e-602a-45b1-8c86-f50904d8b828",
   "metadata": {},
   "outputs": [
    {
     "data": {
      "text/plain": [
       "array([3, 3, 1, 2, 0])"
      ]
     },
     "execution_count": 64,
     "metadata": {},
     "output_type": "execute_result"
    }
   ],
   "source": [
    "# 시간초과 실패\n",
    "import numpy as npa\n",
    "def solution(prices):\n",
    "\n",
    "    arr1 = prices\n",
    "    arr_drop = np.zeros_like(prices)\n",
    "    arr_exist = np.ones_like(prices)\n",
    "    for i in range(len(prices) - 1):\n",
    "        i += 1\n",
    "        arr2 = np.roll(arr1, -i)\n",
    "        arr2[-i:] = 0\n",
    "        res = arr2 - arr1\n",
    "\n",
    "        # 끝난 위치는 1로 치환\n",
    "        arr_drop_temp = np.zeros_like(prices)\n",
    "        arr_drop_temp[np.where(res < 0)] = 1\n",
    "        arr_drop[-i] = 1\n",
    "\n",
    "        if i == 1:\n",
    "            if res[-1] < 0:\n",
    "                arr_exist[-1] = 0\n",
    "                arr_drop += arr_drop_temp\n",
    "            continue\n",
    "\n",
    "        arr_exist[np.where(arr_drop == 0)] +=1 # 안끝난 위치는 1씩 더한다. \n",
    "        arr_drop += arr_drop_temp\n",
    "        \n",
    "        \n",
    "    return [ int(x) for x in list(arr_exist)]"
   ]
  }
 ],
 "metadata": {
  "kernelspec": {
   "display_name": "'nlp38'",
   "language": "python",
   "name": "nlp38"
  },
  "language_info": {
   "codemirror_mode": {
    "name": "ipython",
    "version": 3
   },
   "file_extension": ".py",
   "mimetype": "text/x-python",
   "name": "python",
   "nbconvert_exporter": "python",
   "pygments_lexer": "ipython3",
   "version": "3.8.13"
  }
 },
 "nbformat": 4,
 "nbformat_minor": 5
}
