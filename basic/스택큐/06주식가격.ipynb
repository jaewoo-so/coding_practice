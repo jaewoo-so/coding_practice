{
 "cells": [
  {
   "cell_type": "markdown",
   "id": "fb9ae77b-8c7d-42ad-9d1e-b55cee16651b",
   "metadata": {},
   "source": [
    "문제 설명\n",
    "초 단위로 기록된 주식가격이 담긴 배열 prices가 매개변수로 주어질 때, 가격이 떨어지지 않은 기간은 몇 초인지를 return 하도록 solution 함수를 완성하세요.\n",
    "\n",
    "제한사항\n",
    "prices의 각 가격은 1 이상 10,000 이하인 자연수입니다.\n",
    "prices의 길이는 2 이상 100,000 이하입니다.\n",
    "입출력 예\n",
    "prices\treturn\n",
    "[1, 2, 3, 2, 3]\t[4, 3, 1, 1, 0]\n",
    "입출력 예 설명\n",
    "1초 시점의 ₩1은 끝까지 가격이 떨어지지 않았습니다.\n",
    "2초 시점의 ₩2은 끝까지 가격이 떨어지지 않았습니다.\n",
    "3초 시점의 ₩3은 1초뒤에 가격이 떨어집니다. 따라서 1초간 가격이 떨어지지 않은 것으로 봅니다.\n",
    "4초 시점의 ₩2은 1초간 가격이 떨어지지 않았습니다.\n",
    "5초 시점의 ₩3은 0초간 가격이 떨어지지 않았습니다."
   ]
  },
  {
   "cell_type": "code",
   "execution_count": 33,
   "id": "04002b61-beda-418e-9bfd-681ee0b7f9c3",
   "metadata": {},
   "outputs": [],
   "source": [
    "prices = [1, 2, 3, 2, 3]\n",
    "# [4, 3, 1, 1, 0]"
   ]
  },
  {
   "cell_type": "code",
   "execution_count": 34,
   "id": "bb511735-c360-4054-9a2b-b14c36050f1b",
   "metadata": {},
   "outputs": [],
   "source": [
    "def solution(prices):\n",
    "    answer = []\n",
    "    return answer"
   ]
  },
  {
   "cell_type": "code",
   "execution_count": 35,
   "id": "8b252448-975b-41ce-9447-b55fed5fcb24",
   "metadata": {},
   "outputs": [
    {
     "name": "stdout",
     "output_type": "stream",
     "text": [
      "\n",
      "1 [2, 3, 2, 3]\n",
      "--------\n",
      "1 2 0\n",
      "1 3 1\n",
      "1 2 2\n",
      "1 3 3\n",
      "[4]\n",
      "\n",
      "2 [3, 2, 3]\n",
      "--------\n",
      "2 3 0\n",
      "2 2 1\n",
      "2 3 2\n",
      "[4, 3]\n",
      "\n",
      "3 [2, 3]\n",
      "--------\n",
      "3 2 0\n",
      "[4, 3, 0]\n",
      "\n",
      "2 [3]\n",
      "--------\n",
      "2 3 0\n",
      "[4, 3, 0, 1]\n"
     ]
    }
   ],
   "source": [
    "steps = []\n",
    "while True:\n",
    "    if len(prices) == 1:\n",
    "        steps.append(0)\n",
    "        break\n",
    "    c = prices[0]\n",
    "    prices.pop(0)\n",
    "    print()\n",
    "    print(c,prices)\n",
    "    print('--------')\n",
    "    step = 0 \n",
    "    for trg in prices:\n",
    "        step += 1\n",
    "        print(c, trg, step)\n",
    "        if c <= trg:\n",
    "            continue\n",
    "        else:\n",
    "            break\n",
    "    \n",
    "    steps.append(step)\n",
    "    print(steps)\n"
   ]
  },
  {
   "cell_type": "code",
   "execution_count": 20,
   "id": "391ba1e0-340c-4fa3-9368-95b4d3eec664",
   "metadata": {},
   "outputs": [],
   "source": [
    "# 실패 : 시간초과\n",
    "def solution(prices):\n",
    "    steps = []\n",
    "    while True:\n",
    "        if len(prices) == 1:\n",
    "            steps.append(0)\n",
    "            break\n",
    "        c = prices[0]\n",
    "        prices.pop(0)\n",
    "        \n",
    "        step = 0 \n",
    "        for trg in prices:\n",
    "            step += 1\n",
    "            if c <= trg:\n",
    "                continue\n",
    "            else:\n",
    "                break\n",
    "\n",
    "        steps.append(step)\n",
    "    \n",
    "    return steps"
   ]
  },
  {
   "cell_type": "code",
   "execution_count": 23,
   "id": "d382cf80-d5e5-4e44-a533-be8b07800305",
   "metadata": {},
   "outputs": [
    {
     "name": "stdout",
     "output_type": "stream",
     "text": [
      "[1, 2, 3, 2, 3]\n",
      "[2, 3, 2, 3]\n",
      "[3, 2, 3]\n",
      "[2, 3]\n"
     ]
    },
    {
     "data": {
      "text/plain": [
       "[0, 1]"
      ]
     },
     "execution_count": 23,
     "metadata": {},
     "output_type": "execute_result"
    }
   ],
   "source": [
    "prices = [1, 2, 3, 2, 3]\n",
    "solution(prices)"
   ]
  },
  {
   "cell_type": "code",
   "execution_count": 15,
   "id": "f711188c-da04-4587-a316-45e2fa8292f5",
   "metadata": {},
   "outputs": [
    {
     "data": {
      "text/plain": [
       "[]"
      ]
     },
     "execution_count": 15,
     "metadata": {},
     "output_type": "execute_result"
    }
   ],
   "source": [
    "prices"
   ]
  },
  {
   "cell_type": "code",
   "execution_count": null,
   "id": "aa76c93b-d9a5-4aef-baf7-c057abfb317d",
   "metadata": {},
   "outputs": [],
   "source": []
  }
 ],
 "metadata": {
  "kernelspec": {
   "display_name": "Python [conda env:nlp38]",
   "language": "python",
   "name": "conda-env-nlp38-py"
  },
  "language_info": {
   "codemirror_mode": {
    "name": "ipython",
    "version": 3
   },
   "file_extension": ".py",
   "mimetype": "text/x-python",
   "name": "python",
   "nbconvert_exporter": "python",
   "pygments_lexer": "ipython3",
   "version": "3.8.13"
  }
 },
 "nbformat": 4,
 "nbformat_minor": 5
}
