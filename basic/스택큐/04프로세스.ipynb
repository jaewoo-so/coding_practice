{
 "cells": [
  {
   "cell_type": "code",
   "execution_count": null,
   "id": "fb9e2562-7fb4-48cf-b836-453a1f488caf",
   "metadata": {},
   "outputs": [],
   "source": [
    "def solution(priorities, location):\n",
    "    answer = 0\n",
    "    return answer"
   ]
  },
  {
   "cell_type": "code",
   "execution_count": 4,
   "id": "f1e95f6e-6a56-49c5-b254-2b4f561db563",
   "metadata": {
    "tags": []
   },
   "outputs": [],
   "source": [
    "priorities = [1, 1, 9, 1, 1, 1]\n",
    "location = 0"
   ]
  },
  {
   "cell_type": "code",
   "execution_count": 3,
   "id": "7895249d-80a7-49ca-bf7a-419cb4e2ecba",
   "metadata": {
    "tags": []
   },
   "outputs": [],
   "source": [
    "\n",
    "def solution(priorities, location):\n",
    "    indicator = [False] * len(priorities)\n",
    "    indicator[location] = True\n",
    "    done = 0\n",
    "    while True:\n",
    "        item = priorities[0]\n",
    "        if item < max(priorities):\n",
    "            priorities.append(priorities.pop(0))\n",
    "            indicator.append(indicator.pop(0))\n",
    "        else:\n",
    "            done += 1\n",
    "            if indicator[0]:\n",
    "                return done\n",
    "            else:\n",
    "                priorities.pop(0)\n",
    "                indicator.pop(0)\n",
    "                "
   ]
  },
  {
   "cell_type": "code",
   "execution_count": 8,
   "id": "5df85a38-5ffb-4b60-81c3-f9ab6a4e53ec",
   "metadata": {},
   "outputs": [
    {
     "data": {
      "text/plain": [
       "1"
      ]
     },
     "execution_count": 8,
     "metadata": {},
     "output_type": "execute_result"
    }
   ],
   "source": [
    "priorities.pop()"
   ]
  },
  {
   "cell_type": "code",
   "execution_count": 9,
   "id": "23d0e4ed-fa8d-47f8-99d8-d5b83ed201cc",
   "metadata": {},
   "outputs": [
    {
     "data": {
      "text/plain": [
       "[1, 1, 9, 1, 1]"
      ]
     },
     "execution_count": 9,
     "metadata": {},
     "output_type": "execute_result"
    }
   ],
   "source": [
    "priorities"
   ]
  },
  {
   "cell_type": "code",
   "execution_count": 36,
   "id": "9f9a9fc3-ebc0-4aa5-adbe-f3da19453e88",
   "metadata": {},
   "outputs": [],
   "source": [
    "priorities = [1, 1, 9, 1, 1, 1]\n",
    "location = 0"
   ]
  },
  {
   "cell_type": "code",
   "execution_count": 37,
   "id": "695cce42-f2e9-4c42-8290-b0e45ef6482f",
   "metadata": {},
   "outputs": [
    {
     "name": "stdout",
     "output_type": "stream",
     "text": [
      "[1, 1, 9, 1, 1, 1]\n",
      "[True, False, False, False, False, False]\n",
      "0\n",
      "item :  1\n",
      "[1, 9, 1, 1, 1, 1]\n",
      "\n",
      "[1, 9, 1, 1, 1, 1]\n",
      "[False, False, False, False, False, True]\n",
      "0\n",
      "item :  1\n",
      "[9, 1, 1, 1, 1, 1]\n",
      "\n",
      "[9, 1, 1, 1, 1, 1]\n",
      "[False, False, False, False, True, False]\n",
      "0\n",
      "item :  9\n",
      "False\n",
      "[1, 1, 1, 1, 1]\n",
      "done\n",
      "\n",
      "[1, 1, 1, 1, 1]\n",
      "[False, False, False, True, False]\n",
      "1\n",
      "item :  1\n",
      "False\n",
      "[1, 1, 1, 1]\n",
      "done\n",
      "\n",
      "[1, 1, 1, 1]\n",
      "[False, False, True, False]\n",
      "2\n",
      "item :  1\n",
      "False\n",
      "[1, 1, 1]\n",
      "done\n",
      "\n",
      "[1, 1, 1]\n",
      "[False, True, False]\n",
      "3\n",
      "item :  1\n",
      "False\n",
      "[1, 1]\n",
      "done\n",
      "\n",
      "[1, 1]\n",
      "[True, False]\n",
      "4\n",
      "item :  1\n",
      "True\n",
      "4\n"
     ]
    }
   ],
   "source": [
    "indicator = [False] * len(priorities)\n",
    "indicator[location] = True\n",
    "done = 0\n",
    "while True:\n",
    "    item = priorities[0]\n",
    "    print(priorities)\n",
    "    print(indicator)\n",
    "    print(done)\n",
    "    print('item : ',item)\n",
    "    if item < max(priorities):\n",
    "        \n",
    "        priorities.append(priorities.pop(0))\n",
    "        indicator.append(indicator.pop(0))\n",
    "        print(priorities)\n",
    "    else:\n",
    "        print(indicator[0])\n",
    "        if indicator[0]:\n",
    "            print(done)\n",
    "            break\n",
    "        else:\n",
    "            priorities.pop(0)\n",
    "            indicator.pop(0)\n",
    "            print(priorities)\n",
    "            done += 1\n",
    "            print('done')\n",
    "    print()\n",
    "        \n",
    "    "
   ]
  },
  {
   "cell_type": "code",
   "execution_count": null,
   "id": "8f0495cd-a223-40da-819e-fc8a227a8e9e",
   "metadata": {},
   "outputs": [],
   "source": []
  }
 ],
 "metadata": {
  "kernelspec": {
   "display_name": "Python [conda env:nlp38]",
   "language": "python",
   "name": "conda-env-nlp38-py"
  },
  "language_info": {
   "codemirror_mode": {
    "name": "ipython",
    "version": 3
   },
   "file_extension": ".py",
   "mimetype": "text/x-python",
   "name": "python",
   "nbconvert_exporter": "python",
   "pygments_lexer": "ipython3",
   "version": "3.8.13"
  }
 },
 "nbformat": 4,
 "nbformat_minor": 5
}
