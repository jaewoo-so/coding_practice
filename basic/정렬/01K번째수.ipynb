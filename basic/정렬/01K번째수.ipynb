{
 "cells": [
  {
   "cell_type": "code",
   "execution_count": null,
   "id": "c322f121-f1d3-4c1e-bb6c-0d04ee64c772",
   "metadata": {},
   "outputs": [],
   "source": [
    "array = [1, 5, 2, 6, 3, 7, 4]\n",
    "commands = [[2, 5, 3], [4, 4, 1], [1, 7, 3]] # [5, 6, 3]"
   ]
  },
  {
   "cell_type": "code",
   "execution_count": null,
   "id": "f1f19ac2-ae5c-402a-bc22-91e686ddd595",
   "metadata": {},
   "outputs": [],
   "source": [
    "def solution(array, commands):\n",
    "    answer = []\n",
    "    return answer"
   ]
  },
  {
   "cell_type": "code",
   "execution_count": 1,
   "id": "fd36e0eb-8630-4f76-af84-6fa8eeacfa91",
   "metadata": {},
   "outputs": [],
   "source": [
    "array = [1, 5, 2, 6, 3, 7, 4]\n",
    "commands = [[2, 5, 3], [4, 4, 1], [1, 7, 3]]"
   ]
  },
  {
   "cell_type": "code",
   "execution_count": 18,
   "id": "0488e764-d772-4423-8c9b-0437639fe3c3",
   "metadata": {},
   "outputs": [],
   "source": [
    "# 성공\n",
    "def solution(array, commands):\n",
    "    res = []\n",
    "    for com in commands:\n",
    "        s = com[0] - 1\n",
    "        e = com[1]\n",
    "        idx = com[2]\n",
    "        val_list = sorted(array[s:e])\n",
    "        val = val_list[idx-1]\n",
    "        res.append(val)\n",
    "    return res\n",
    " "
   ]
  }
 ],
 "metadata": {
  "kernelspec": {
   "display_name": "Python [conda env:nlp38]",
   "language": "python",
   "name": "conda-env-nlp38-py"
  },
  "language_info": {
   "codemirror_mode": {
    "name": "ipython",
    "version": 3
   },
   "file_extension": ".py",
   "mimetype": "text/x-python",
   "name": "python",
   "nbconvert_exporter": "python",
   "pygments_lexer": "ipython3",
   "version": "3.8.13"
  }
 },
 "nbformat": 4,
 "nbformat_minor": 5
}
