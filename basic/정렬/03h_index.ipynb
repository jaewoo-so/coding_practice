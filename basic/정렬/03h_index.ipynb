{
 "cells": [
  {
   "cell_type": "code",
   "execution_count": null,
   "id": "6dc2360f-c3c6-442e-9cde-fe748bfda71a",
   "metadata": {},
   "outputs": [],
   "source": [
    "논문 n편 중, h번 이상 인용된 논문이 h편 이상이고 나머지 논문이 h번 이하 인용되었다면 h의 최댓값이 이 과학자의 H-Index"
   ]
  },
  {
   "cell_type": "code",
   "execution_count": null,
   "id": "f6e7b990-6565-4dc2-8a5f-bafb72df61fa",
   "metadata": {},
   "outputs": [],
   "source": [
    "def solution(citations):\n",
    "    answer = 0\n",
    "    return answer"
   ]
  },
  {
   "cell_type": "code",
   "execution_count": 30,
   "id": "02a46b50-2005-4c74-a763-c38362399556",
   "metadata": {},
   "outputs": [
    {
     "name": "stdout",
     "output_type": "stream",
     "text": [
      "h : 5\n",
      "5 5\n",
      "5 4\n",
      "1\n",
      "h : 4\n",
      "4 4\n",
      "4 1\n",
      "2\n",
      "h : 1\n",
      "1 1\n",
      "3\n"
     ]
    }
   ],
   "source": [
    "citations = [1, 4, 5]\n",
    "citations = sorted(citations, reverse=True)\n",
    "\n",
    "\n",
    "n = len(citations)\n",
    "hindex = 0\n",
    "for i in range(n):\n",
    "    h = citations[i]\n",
    "    idx = i\n",
    "    print(f'h : {h}')\n",
    "    for k in citations[i:]:\n",
    "        print(h,k)\n",
    "        if k >= h:\n",
    "            idx +=1\n",
    "        else:\n",
    "            break\n",
    "    print(idx)\n",
    "    \n",
    "    if h < idx:\n",
    "        idx = h\n",
    "    \n",
    "    if hindex < idx:\n",
    "        hindex = idx\n",
    "    if idx >= h:\n",
    "        break\n"
   ]
  },
  {
   "cell_type": "code",
   "execution_count": 38,
   "id": "9df901d3-5ff4-4dd0-9c46-269dadc0a3e3",
   "metadata": {},
   "outputs": [],
   "source": [
    "# 성공\n",
    "def solution(citations):\n",
    "    citations = sorted(citations, reverse=True)\n",
    "    n = len(citations)\n",
    "    hindex = 0\n",
    "    for i in range(n):\n",
    "        h = citations[i]\n",
    "        idx = i\n",
    "        \n",
    "        #print(f'h : {h}')\n",
    "        for k in citations[i:]:\n",
    "            #print(h,k)\n",
    "            if k >= h:\n",
    "                idx +=1\n",
    "            else:\n",
    "                break\n",
    "        #print(idx)\n",
    "        if h < idx:\n",
    "            idx = h\n",
    "    \n",
    "        if hindex < idx:\n",
    "            hindex = idx\n",
    "        if idx >= h:\n",
    "            return hindex\n",
    "    return hindex"
   ]
  },
  {
   "cell_type": "code",
   "execution_count": 39,
   "id": "4108340c-18cc-4ad5-98e2-a4d4ff6cf7a0",
   "metadata": {},
   "outputs": [
    {
     "data": {
      "text/plain": [
       "2"
      ]
     },
     "execution_count": 39,
     "metadata": {},
     "output_type": "execute_result"
    }
   ],
   "source": [
    "citations = [1, 4, 5]\n",
    "solution(citations)"
   ]
  },
  {
   "cell_type": "code",
   "execution_count": null,
   "id": "26a85e73-cd59-4189-b991-aa6c4758d818",
   "metadata": {},
   "outputs": [],
   "source": []
  },
  {
   "cell_type": "code",
   "execution_count": null,
   "id": "d6bc28d7-bf2f-4479-a64f-cce7a0c58e1f",
   "metadata": {},
   "outputs": [],
   "source": [
    "# 모범 1\n",
    "def solution(citations):\n",
    "    citations.sort(reverse=True)\n",
    "    answer = max(map(min, enumerate(citations, start=1)))\n",
    "    return answer"
   ]
  },
  {
   "cell_type": "code",
   "execution_count": null,
   "id": "01555ffd-9fbe-4153-ae78-87917a52737e",
   "metadata": {},
   "outputs": [],
   "source": [
    "#모범2\n",
    "def solution(citations):\n",
    "    citations = sorted(citations)\n",
    "    l = len(citations)\n",
    "    for i in range(l):\n",
    "        if citations[i] >= l-i:\n",
    "            return l-i\n",
    "    return 0"
   ]
  }
 ],
 "metadata": {
  "kernelspec": {
   "display_name": "Python [conda env:nlp38]",
   "language": "python",
   "name": "conda-env-nlp38-py"
  },
  "language_info": {
   "codemirror_mode": {
    "name": "ipython",
    "version": 3
   },
   "file_extension": ".py",
   "mimetype": "text/x-python",
   "name": "python",
   "nbconvert_exporter": "python",
   "pygments_lexer": "ipython3",
   "version": "3.8.13"
  }
 },
 "nbformat": 4,
 "nbformat_minor": 5
}
