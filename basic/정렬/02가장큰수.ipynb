{
 "cells": [
  {
   "cell_type": "code",
   "execution_count": 1,
   "id": "706d2b7a-3696-4a44-b58b-34245a821d5c",
   "metadata": {},
   "outputs": [],
   "source": [
    "def solution(numbers):\n",
    "    answer = ''\n",
    "    return answer"
   ]
  },
  {
   "cell_type": "code",
   "execution_count": 2,
   "id": "ed234342-1529-4dd3-aad6-d304e867a1a9",
   "metadata": {},
   "outputs": [],
   "source": [
    "numbers = [3, 30, 34, 5, 9]"
   ]
  },
  {
   "cell_type": "code",
   "execution_count": 51,
   "id": "6260edc0-d77e-4e25-9392-c469d6fb7bf5",
   "metadata": {},
   "outputs": [],
   "source": [
    "from functools import *\n",
    "#numbers = [6, 10, 2]\n",
    "numbers = [3, 30, 34, 5, 9]\n",
    "nf = [ int(str(x)[0]) for x in numbers]\n",
    "\n",
    "final_list = []\n",
    "pool = {}\n",
    "for i in range(9):\n",
    "    pool[i] = []\n",
    "for i in range(len(numbers)):\n",
    "    pool[nf[i]-1] += [numbers[i]]\n",
    "for i in range(8,-1,-1):\n",
    "    if len(pool[i]) > 0:\n",
    "        pool[i] = sorted(pool[i])\n",
    "        pool[i].reverse()\n",
    "        final_list = final_list + pool[i]\n",
    "    else:\n",
    "        continue\n",
    "res = reduce(lambda f , s : str(f) + str(s) ,final_list)"
   ]
  },
  {
   "cell_type": "code",
   "execution_count": 57,
   "id": "479adf62-67d2-436e-8805-bf3abe52a759",
   "metadata": {},
   "outputs": [],
   "source": [
    "# 안되는 케이스가 있다. \n",
    "from functools import *\n",
    "import numpy as np\n",
    "\n",
    "def solution(numbers):\n",
    "    def fill_num(max_len, num):\n",
    "        if max_len == len(str(num)):\n",
    "            return num\n",
    "        snum = str(num)\n",
    "        fillnum = snum[0]\n",
    "        fill_len = max_len - len(snum)\n",
    "        backnum = fillnum*fill_len \n",
    "        fixed_num = int(snum + backnum)\n",
    "        return fixed_num\n",
    "    \n",
    "    def combine_allnum(arr):\n",
    "        if arr[0] == 0:\n",
    "            return '0'\n",
    "        max_len = max([len(str(x)) for x in arr])\n",
    "        arr_np = np.array([fill_num(max_len,x) for x in arr])\n",
    "        idxs = np.argsort(arr_np)[::-1]\n",
    "\n",
    "\n",
    "        res = ''\n",
    "        for idx in idxs:\n",
    "            sel_val = arr[idx]\n",
    "            res = res + str(sel_val)\n",
    "        return res\n",
    "    \n",
    "    \n",
    "    nf = [ int(str(x)[0]) for x in numbers]\n",
    "    final_list = ''\n",
    "    pool = {}\n",
    "    for i in range(9):\n",
    "        pool[i] = []\n",
    "    for i in range(len(numbers)):\n",
    "        pool[nf[i]-1] += [numbers[i]]\n",
    "    for i in range(8,-1,-1):\n",
    "        if len(pool[i]) > 0:\n",
    "            pool[i] = sorted(pool[i])\n",
    "            pool[i].reverse()\n",
    "            final_list = final_list + combine_allnum(pool[i])\n",
    "        else:\n",
    "            continue\n",
    "    return final_list"
   ]
  },
  {
   "cell_type": "code",
   "execution_count": null,
   "id": "bc541c79-0ea2-44e3-9e30-799df7efc8df",
   "metadata": {},
   "outputs": [],
   "source": [
    "arr = [335 , 34, 30, 3]\n",
    "numbers = [3, 30, 34, 5, 9]"
   ]
  },
  {
   "cell_type": "code",
   "execution_count": 104,
   "id": "bc2aaaea-f169-4f6b-8888-05e31333f2e9",
   "metadata": {},
   "outputs": [
    {
     "name": "stdout",
     "output_type": "stream",
     "text": [
      "False\n"
     ]
    }
   ],
   "source": [
    "# 디버깅\n",
    "[0, 0, 0]\n",
    "\n",
    "from functools import *\n",
    "import numpy as np\n",
    "\n",
    "def fill_num(max_len, num):\n",
    "    if max_len == len(str(num)):\n",
    "        return num\n",
    "    snum = str(num)\n",
    "    fillnum = snum[0]\n",
    "    fill_len = max_len - len(snum)\n",
    "    backnum = fillnum*fill_len \n",
    "    fixed_num = int(snum + backnum)\n",
    "    return fixed_num\n",
    "\n",
    "def combine_allnum(arr):\n",
    "    if arr[0] == 0:\n",
    "        return '0'\n",
    "    \n",
    "    max_len = max([len(str(x)) for x in arr])\n",
    "    arr_np = np.array([fill_num(max_len,x) for x in arr])\n",
    "    idxs = np.argsort(arr_np)[::-1]\n",
    "\n",
    "\n",
    "    res = ''\n",
    "    for idx in idxs:\n",
    "        sel_val = arr[idx]\n",
    "        res = res + str(sel_val)\n",
    "    return res\n",
    "\n",
    "#numbers = [6, 10, 2]\n",
    "#numbers = [3, 30, 34, 5, 9]\n",
    "#numbers = [0,0,0]\n",
    "numbers = [1, 10, 100, 1000, 818, 81, 898, 89, 0, 0] \n",
    "nf = [ int(str(x)[0]) for x in numbers]\n",
    "\n",
    "final_list = ''\n",
    "pool = {}\n",
    "for i in range(10):\n",
    "    pool[i] = []\n",
    "for i in range(len(numbers)):\n",
    "    pool[nf[i]] += [numbers[i]]\n",
    "for i in range(9,-1,-1):\n",
    "    if len(pool[i]) > 0:\n",
    "        pool[i] = sorted(pool[i])\n",
    "        pool[i].reverse()\n",
    "        final_list = final_list + combine_allnum(pool[i])\n",
    "    else:\n",
    "        continue\n",
    "res = reduce(lambda f , s : str(f) + str(s) ,final_list)\n",
    "print(res == \"8989881881110100100000\" )"
   ]
  },
  {
   "cell_type": "code",
   "execution_count": 105,
   "id": "aa8e5219-6135-4690-8dde-e7c898038003",
   "metadata": {},
   "outputs": [
    {
     "data": {
      "text/plain": [
       "'898988181811010010000'"
      ]
     },
     "execution_count": 105,
     "metadata": {},
     "output_type": "execute_result"
    }
   ],
   "source": [
    "res"
   ]
  },
  {
   "cell_type": "code",
   "execution_count": null,
   "id": "98da85df-3b2e-4bbd-9371-5a704d647e6e",
   "metadata": {},
   "outputs": [],
   "source": []
  }
 ],
 "metadata": {
  "kernelspec": {
   "display_name": "Python [conda env:nlp38]",
   "language": "python",
   "name": "conda-env-nlp38-py"
  },
  "language_info": {
   "codemirror_mode": {
    "name": "ipython",
    "version": 3
   },
   "file_extension": ".py",
   "mimetype": "text/x-python",
   "name": "python",
   "nbconvert_exporter": "python",
   "pygments_lexer": "ipython3",
   "version": "3.8.13"
  }
 },
 "nbformat": 4,
 "nbformat_minor": 5
}
